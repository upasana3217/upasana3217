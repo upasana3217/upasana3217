{
 "cells": [
  {
   "cell_type": "code",
   "execution_count": 1,
   "id": "1c96ed51-f356-4627-ab63-bc941174e7a8",
   "metadata": {},
   "outputs": [
    {
     "data": {
      "text/plain": [
       "int"
      ]
     },
     "execution_count": 1,
     "metadata": {},
     "output_type": "execute_result"
    }
   ],
   "source": [
    "a=7\n",
    "type(a)"
   ]
  },
  {
   "cell_type": "code",
   "execution_count": 2,
   "id": "a34e3ba2-13bf-44e1-8883-e544225e4da8",
   "metadata": {},
   "outputs": [
    {
     "data": {
      "text/plain": [
       "float"
      ]
     },
     "execution_count": 2,
     "metadata": {},
     "output_type": "execute_result"
    }
   ],
   "source": [
    "b=3.0\n",
    "type(b)"
   ]
  },
  {
   "cell_type": "code",
   "execution_count": 3,
   "id": "1df9cec1-0d59-4cff-acc4-a9ea78666178",
   "metadata": {},
   "outputs": [
    {
     "name": "stdout",
     "output_type": "stream",
     "text": [
      "10.0\n",
      "<class 'float'>\n"
     ]
    }
   ],
   "source": [
    "c=a+b\n",
    "print(c)\n",
    "print(type(c))"
   ]
  },
  {
   "cell_type": "code",
   "execution_count": 4,
   "id": "caa35e74-29de-4cba-922f-d46f869c49e2",
   "metadata": {},
   "outputs": [
    {
     "name": "stdout",
     "output_type": "stream",
     "text": [
      "<class 'float'>\n",
      "21.0\n"
     ]
    }
   ],
   "source": [
    "d=a*b\n",
    "print(type(d))\n",
    "print(d)"
   ]
  },
  {
   "cell_type": "code",
   "execution_count": 5,
   "id": "62b1e141-6674-4cc5-897a-8984a96557ec",
   "metadata": {},
   "outputs": [
    {
     "name": "stdout",
     "output_type": "stream",
     "text": [
      "Requirement already satisfied: numpy in c:\\users\\kiit\\anaconda3\\envs\\ml_dec\\lib\\site-packages (1.22.1)\n",
      "195 ms ± 2.68 ms per loop (mean ± std. dev. of 7 runs, 10 loops each)\n",
      "1.92 ms ± 173 µs per loop (mean ± std. dev. of 7 runs, 100 loops each)\n"
     ]
    }
   ],
   "source": [
    "!pip install numpy\n",
    "import numpy as np\n",
    "B = np.random.rand(1000000)\n",
    "%timeit sum(B)\n",
    "%timeit np.sum(B)"
   ]
  },
  {
   "cell_type": "code",
   "execution_count": 6,
   "id": "3686c927-01ba-4f95-90ac-b887f43f0b9d",
   "metadata": {},
   "outputs": [
    {
     "name": "stdout",
     "output_type": "stream",
     "text": [
      "499694.9491596285\n",
      "499694.9491596285\n",
      "499694.9491596285\n",
      "499694.9491596285\n",
      "499694.9491596285\n",
      "499694.9491596285\n",
      "499694.9491596285\n",
      "499694.9491596285\n",
      "268 ms ± 13.8 ms per loop (mean ± std. dev. of 7 runs, 1 loop each)\n"
     ]
    }
   ],
   "source": [
    "\n",
    "%%timeit\n",
    "S=0\n",
    "for x in B:\n",
    "    S = S + x\n",
    "print(S)"
   ]
  },
  {
   "cell_type": "code",
   "execution_count": 7,
   "id": "16ca61ec-ab55-49d9-ba0d-2a55bb684002",
   "metadata": {},
   "outputs": [
    {
     "name": "stdin",
     "output_type": "stream",
     "text": [
      "enter the price 56\n"
     ]
    },
    {
     "name": "stdout",
     "output_type": "stream",
     "text": [
      "price =  56.0\n",
      "not a number\n"
     ]
    }
   ],
   "source": [
    "price = float(input(\"enter the price\"))\n",
    "print(\"price = \",price)\n",
    "print(\"not a number\")"
   ]
  },
  {
   "cell_type": "code",
   "execution_count": 8,
   "id": "0f8b028e-f99f-4efd-920c-de0a15fa967c",
   "metadata": {},
   "outputs": [
    {
     "name": "stdin",
     "output_type": "stream",
     "text": [
      "enter the price :  5\n"
     ]
    },
    {
     "name": "stdout",
     "output_type": "stream",
     "text": [
      "price =  5.0\n"
     ]
    }
   ],
   "source": [
    "price = input(\"enter the price : \")\n",
    "try :\n",
    "    price=float(price)\n",
    "    print(\"price = \",price)\n",
    "except ValueError:\n",
    "    print(\"not a number\")"
   ]
  },
  {
   "cell_type": "code",
   "execution_count": 9,
   "id": "44906cfb-dc97-4403-a028-ec989af2159e",
   "metadata": {},
   "outputs": [
    {
     "name": "stdin",
     "output_type": "stream",
     "text": [
      "enter the price: 45\n"
     ]
    },
    {
     "name": "stdout",
     "output_type": "stream",
     "text": [
      "<class 'str'>\n",
      "price is: 45\n",
      "<class 'int'>\n"
     ]
    }
   ],
   "source": [
    "price = input(\"enter the price:\")\n",
    "print(type(price))\n",
    "price=int(price)\n",
    "print(\"price is:\",price)\n",
    "print(type(price))"
   ]
  },
  {
   "cell_type": "code",
   "execution_count": 10,
   "id": "205f126e-fcf8-4abb-97a2-586eb7988405",
   "metadata": {},
   "outputs": [
    {
     "name": "stdout",
     "output_type": "stream",
     "text": [
      "hi10\n"
     ]
    },
    {
     "data": {
      "text/plain": [
       "str"
      ]
     },
     "execution_count": 10,
     "metadata": {},
     "output_type": "execute_result"
    }
   ],
   "source": [
    "c = 'hi' + str(10)\n",
    "print(c)\n",
    "type(c)"
   ]
  },
  {
   "cell_type": "code",
   "execution_count": 11,
   "id": "231203d4-a6f2-43ff-8414-9d26e6654f8e",
   "metadata": {},
   "outputs": [
    {
     "data": {
      "text/plain": [
       "4"
      ]
     },
     "execution_count": 11,
     "metadata": {},
     "output_type": "execute_result"
    }
   ],
   "source": [
    "len(c)"
   ]
  },
  {
   "cell_type": "code",
   "execution_count": 12,
   "id": "ba1c4296-bd97-4bec-8da7-937b8e6779c1",
   "metadata": {},
   "outputs": [
    {
     "name": "stdout",
     "output_type": "stream",
     "text": [
      "b is greater than a\n",
      "20\n",
      "100\n"
     ]
    }
   ],
   "source": [
    "a = 20\n",
    "b = 100\n",
    "if b>a:\n",
    "    print(\"b is greater than a\")\n",
    "print(a)\n",
    "print(b)"
   ]
  },
  {
   "cell_type": "code",
   "execution_count": 13,
   "id": "8f027c2a-8695-402e-badb-cf0e14249b72",
   "metadata": {},
   "outputs": [
    {
     "name": "stdout",
     "output_type": "stream",
     "text": [
      "y is greater than x\n"
     ]
    }
   ],
   "source": [
    "x,y=10,12\n",
    "if x>y:\n",
    "    st=\"x is greater than y\"\n",
    "elif x==y:\n",
    "    st=\"x is equal to y\"\n",
    "else:\n",
    "    st=\"y is greater than x\"\n",
    "print(st)"
   ]
  },
  {
   "cell_type": "code",
   "execution_count": 14,
   "id": "2ed1b6ba-5647-47ac-b5d4-41ae4c9b0cf7",
   "metadata": {},
   "outputs": [
    {
     "name": "stdout",
     "output_type": "stream",
     "text": [
      "1\n",
      "2\n",
      "3\n",
      "4\n",
      "5\n"
     ]
    }
   ],
   "source": [
    "list=[1,2,3,4,5]\n",
    "for i in list:\n",
    "    print(i)"
   ]
  },
  {
   "cell_type": "code",
   "execution_count": 15,
   "id": "03a1d6e1-735f-4adc-9416-49cb25e45bb9",
   "metadata": {},
   "outputs": [
    {
     "name": "stdout",
     "output_type": "stream",
     "text": [
      "1 2 3 4 5 "
     ]
    }
   ],
   "source": [
    "list=[1,2,3,4,5]\n",
    "for i in list:\n",
    "    print(i,end=\" \")"
   ]
  },
  {
   "cell_type": "code",
   "execution_count": 16,
   "id": "a00ebaee-58f6-4307-b380-2dd30179528f",
   "metadata": {},
   "outputs": [
    {
     "name": "stdout",
     "output_type": "stream",
     "text": [
      "6\n",
      "7\n",
      "8\n",
      "9\n",
      "10\n"
     ]
    }
   ],
   "source": [
    "while(i<10):\n",
    "    i=i+1\n",
    "    print(i)"
   ]
  },
  {
   "cell_type": "code",
   "execution_count": 17,
   "id": "240251b2-ecfb-4fb5-90e4-7e4db424e7c5",
   "metadata": {},
   "outputs": [
    {
     "data": {
      "text/plain": [
       "range(3, 7)"
      ]
     },
     "execution_count": 17,
     "metadata": {},
     "output_type": "execute_result"
    }
   ],
   "source": [
    "li = range(3,7)\n",
    "li"
   ]
  },
  {
   "cell_type": "code",
   "execution_count": 18,
   "id": "4c0c3b0e-93de-488f-84ac-947721eac0f1",
   "metadata": {},
   "outputs": [
    {
     "name": "stdout",
     "output_type": "stream",
     "text": [
      "0 1 2 3 4 5 6 7 8 9 "
     ]
    }
   ],
   "source": [
    "for i in range(10):\n",
    "    print(i,end=\" \")"
   ]
  },
  {
   "cell_type": "code",
   "execution_count": 19,
   "id": "e46a0631-eb1d-42da-b1dd-462a9b431986",
   "metadata": {},
   "outputs": [
    {
     "name": "stdout",
     "output_type": "stream",
     "text": [
      "1 5 9 13 17 "
     ]
    }
   ],
   "source": [
    "for i in range(1,20,4):\n",
    "    print(i,end=\" \")"
   ]
  },
  {
   "cell_type": "code",
   "execution_count": 20,
   "id": "5aea0a81-64db-4d6e-9387-4eeaebcf02f7",
   "metadata": {},
   "outputs": [
    {
     "name": "stdout",
     "output_type": "stream",
     "text": [
      "1\n",
      "2\n",
      "3\n",
      "4\n",
      "5\n",
      "6\n",
      "7\n",
      "8\n",
      "9\n",
      "10\n"
     ]
    }
   ],
   "source": [
    "for i in range(10):\n",
    "    i=i+1\n",
    "    print(i)"
   ]
  },
  {
   "cell_type": "code",
   "execution_count": 21,
   "id": "1c8b9369-f530-4ead-a019-cf88a7a7a8bc",
   "metadata": {},
   "outputs": [
    {
     "name": "stdout",
     "output_type": "stream",
     "text": [
      "7\n",
      "6\n",
      "5\n"
     ]
    }
   ],
   "source": [
    "li=[1,2,3,4,5,6,7]\n",
    "length = len(li)\n",
    "while length >= 3:\n",
    "    print(length)\n",
    "    if length <= 5:\n",
    "        break\n",
    "    length = length - 1 "
   ]
  },
  {
   "cell_type": "code",
   "execution_count": 22,
   "id": "a4253d46-96e6-400e-9c12-664212a0bce2",
   "metadata": {},
   "outputs": [
    {
     "name": "stdout",
     "output_type": "stream",
     "text": [
      "6\n"
     ]
    }
   ],
   "source": [
    "length = len(li)\n",
    "while length >= 3:    \n",
    "    length = length - 1 \n",
    "    if length <= 5:\n",
    "        continue\n",
    "    print(length)"
   ]
  },
  {
   "cell_type": "code",
   "execution_count": 23,
   "id": "88279e46-7170-458a-b29e-a6115ac7312e",
   "metadata": {},
   "outputs": [
    {
     "name": "stdout",
     "output_type": "stream",
     "text": [
      "1\n",
      "2\n",
      "3\n",
      "4\n",
      "5\n",
      "6\n",
      "7\n"
     ]
    }
   ],
   "source": [
    "li = [1,2,3,4,5,6,7]\n",
    "for i in li:\n",
    "    print(i)"
   ]
  },
  {
   "cell_type": "code",
   "execution_count": 24,
   "id": "497edf5a-0efa-4651-a96f-2add33326604",
   "metadata": {},
   "outputs": [
    {
     "name": "stdout",
     "output_type": "stream",
     "text": [
      "7\n",
      "14\n",
      "21\n",
      "28\n",
      "35\n",
      "42\n",
      "49\n",
      "49\n"
     ]
    }
   ],
   "source": [
    "li = [1,2,3,4,5,6,7]\n",
    "j = 0\n",
    "for i in li:\n",
    "    for i in li:\n",
    "        i=i+1\n",
    "        j=j+1\n",
    "    print(j)\n",
    "print(j)"
   ]
  },
  {
   "cell_type": "code",
   "execution_count": 25,
   "id": "e42637b7-4cbf-482e-88be-b0d4fdf7d02f",
   "metadata": {},
   "outputs": [
    {
     "name": "stdin",
     "output_type": "stream",
     "text": [
      "x?  5\n",
      "y?  6\n"
     ]
    },
    {
     "name": "stdout",
     "output_type": "stream",
     "text": [
      "x is less than y\n"
     ]
    }
   ],
   "source": [
    "x = int(input(\"x? \"))\n",
    "y = int(input(\"y? \"))\n",
    "if x < y: \n",
    "    print('x is less than y') \n",
    "elif x > y: \n",
    "    print('x is greater than y') \n",
    "else: \n",
    "    print('x and y are equal')"
   ]
  },
  {
   "cell_type": "code",
   "execution_count": 26,
   "id": "c796fea4-ea42-4295-9559-e9c1c2fb5b9f",
   "metadata": {},
   "outputs": [
    {
     "name": "stdout",
     "output_type": "stream",
     "text": [
      "highest 74\n"
     ]
    }
   ],
   "source": [
    "highest = 0\n",
    "for value in [9, 41, 12, 3, 74, 15] :\n",
    "    if value > highest:\n",
    "        highest = value \n",
    "        \n",
    "print('highest' , highest)"
   ]
  },
  {
   "cell_type": "code",
   "execution_count": 27,
   "id": "db4ae1bd-dca2-4b84-8e24-a02c11d58c5d",
   "metadata": {},
   "outputs": [
    {
     "name": "stdout",
     "output_type": "stream",
     "text": [
      "74\n"
     ]
    }
   ],
   "source": [
    "list = [9, 41, 12, 3, 74, 15]\n",
    "print(list[4])"
   ]
  },
  {
   "cell_type": "code",
   "execution_count": 28,
   "id": "54ba7d13-f540-45a1-bcc5-d079803b8db6",
   "metadata": {},
   "outputs": [
    {
     "name": "stdout",
     "output_type": "stream",
     "text": [
      "smallest =  3\n"
     ]
    }
   ],
   "source": [
    "list = [9, 41, 12, 3, 74, 15]\n",
    "smallest = list[0]\n",
    "for i in list :\n",
    "    if i<smallest:\n",
    "        smallest=i\n",
    "print(\"smallest = \",smallest)"
   ]
  },
  {
   "cell_type": "code",
   "execution_count": 29,
   "id": "f4da9389-1d8d-4f65-8162-e3136ac715b0",
   "metadata": {},
   "outputs": [
    {
     "name": "stdout",
     "output_type": "stream",
     "text": [
      "After 1\n"
     ]
    }
   ],
   "source": [
    "smallest = None\n",
    "for value in [9, 41, 12, 3, 74, 15,103,305, 7 , 102.5, 167.44,1] : \n",
    "     if smallest is None : \n",
    "            smallest = value   \n",
    "     elif value < smallest : \n",
    "         smallest = value   \n",
    "     #print(smallest, value)\n",
    "print('After', smallest)"
   ]
  },
  {
   "cell_type": "code",
   "execution_count": 33,
   "id": "693aafa7-1639-470b-bdaf-bed6f870d883",
   "metadata": {},
   "outputs": [
    {
     "name": "stdout",
     "output_type": "stream",
     "text": [
      "11\n",
      "12\n",
      "13\n",
      "14\n",
      "16\n",
      "17\n",
      "18\n",
      "19\n",
      "20\n"
     ]
    }
   ],
   "source": [
    "a=10\n",
    "while a < 20 :\n",
    "    a+=1\n",
    "    if a==15 :\n",
    "        continue\n",
    "    print(a)"
   ]
  },
  {
   "cell_type": "code",
   "execution_count": 34,
   "id": "26f27a7a-803b-4f9a-8104-36b89696b270",
   "metadata": {},
   "outputs": [
    {
     "name": "stdout",
     "output_type": "stream",
     "text": [
      "509121\n",
      "26795.842105263157\n"
     ]
    }
   ],
   "source": [
    "def average(numbers):\n",
    "    total = 0\n",
    "    for num in numbers:\n",
    "        total = total + num\n",
    "    avg = total/len(numbers)\n",
    "    return avg, total\n",
    "def main():\n",
    "    prices = [29, 21, 55, 10, 12,16,190,347,1024, 9403, 125, 341942, 20394, 109236, 3470, 5732, 1293, 10039,5783]\n",
    "    result, tot = average(prices)\n",
    "    print(tot)\n",
    "    print(result)\n",
    "main()"
   ]
  },
  {
   "cell_type": "code",
   "execution_count": 35,
   "id": "f31b918e-dce9-463d-9e3f-d150bc4eabf6",
   "metadata": {},
   "outputs": [
    {
     "name": "stdout",
     "output_type": "stream",
     "text": [
      "100\n",
      "20.0\n"
     ]
    }
   ],
   "source": [
    "def average(price):\n",
    "    total=0\n",
    "    for i in price:\n",
    "        total=total+i\n",
    "    avg=total/len(price)\n",
    "    return avg,total\n",
    "def main():\n",
    "    price=[10,15,20,25,30]\n",
    "    avg,total=average(price)\n",
    "    print(total)\n",
    "    print(avg)\n",
    "main()"
   ]
  },
  {
   "cell_type": "code",
   "execution_count": null,
   "id": "3a3d2944-7c7d-4ac5-b116-2ef9eb0c5ec2",
   "metadata": {},
   "outputs": [],
   "source": []
  }
 ],
 "metadata": {
  "kernelspec": {
   "display_name": "Python 3 (ipykernel)",
   "language": "python",
   "name": "python3"
  },
  "language_info": {
   "codemirror_mode": {
    "name": "ipython",
    "version": 3
   },
   "file_extension": ".py",
   "mimetype": "text/x-python",
   "name": "python",
   "nbconvert_exporter": "python",
   "pygments_lexer": "ipython3",
   "version": "3.8.12"
  }
 },
 "nbformat": 4,
 "nbformat_minor": 5
}
