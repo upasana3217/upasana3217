{
 "cells": [
  {
   "cell_type": "code",
   "execution_count": 1,
   "id": "6c613c1f-c171-4691-ae1a-511f437de2bc",
   "metadata": {},
   "outputs": [
    {
     "name": "stdout",
     "output_type": "stream",
     "text": [
      "num is :  10\n",
      "abc inside function is :  10\n",
      "abc outside function is :  5\n",
      "3.0\n"
     ]
    }
   ],
   "source": [
    "abc=5\n",
    "def average(prices, abc):\n",
    "    total = 0 \n",
    "    print('num is : ',num)\n",
    "    print('abc inside function is : ',abc)\n",
    "    for price in prices: \n",
    "        total = total + price \n",
    "    avg = total/len(prices)\n",
    "    return avg\n",
    "numbers = [1,2,3,4,5]\n",
    "num = 10 \n",
    "my_average = average(numbers, num)\n",
    "print('abc outside function is : ',abc)\n",
    "print(my_average) "
   ]
  },
  {
   "cell_type": "code",
   "execution_count": 3,
   "id": "8a173859-cb23-4770-89d4-3a2414c1b809",
   "metadata": {},
   "outputs": [
    {
     "name": "stdout",
     "output_type": "stream",
     "text": [
      "25\n",
      "28.75\n"
     ]
    }
   ],
   "source": [
    "order_goal = 25\n",
    "def average(numbers):\n",
    "    total = 0\n",
    "    for num in numbers:\n",
    "        total = total + num\n",
    "    avg = total/len(numbers)\n",
    "    return avg\n",
    "def main():\n",
    "    prices = [29, 21, 55, 10]\n",
    "    result = average(prices)\n",
    "    print(order_goal)\n",
    "    print(result)\n",
    "main()"
   ]
  },
  {
   "cell_type": "code",
   "execution_count": 4,
   "id": "920d98c8-17bf-4a2f-a776-242a3b9b2bb1",
   "metadata": {},
   "outputs": [
    {
     "name": "stdout",
     "output_type": "stream",
     "text": [
      "3.0\n",
      "6\n"
     ]
    }
   ],
   "source": [
    "x = abs(-3.0)\n",
    "print(x)\n",
    "\n",
    "l = len(\"ABCDEF\")\n",
    "print(l)"
   ]
  },
  {
   "cell_type": "code",
   "execution_count": 5,
   "id": "66ad8829-8748-478f-9cd9-a9de72664b46",
   "metadata": {},
   "outputs": [
    {
     "name": "stdout",
     "output_type": "stream",
     "text": [
      "Hello world!\n"
     ]
    }
   ],
   "source": [
    "def sayHello():\n",
    "    print('Hello world!')\n",
    "    \n",
    "sayHello()"
   ]
  },
  {
   "cell_type": "code",
   "execution_count": 6,
   "id": "b3bf4799-58db-49a4-9a8d-66e0266ddda8",
   "metadata": {},
   "outputs": [
    {
     "name": "stdout",
     "output_type": "stream",
     "text": [
      "Hello world!\n"
     ]
    }
   ],
   "source": [
    "sayHello() "
   ]
  },
  {
   "cell_type": "code",
   "execution_count": 8,
   "id": "7806eeb3-844b-46e8-86d4-58c4ff1cd649",
   "metadata": {},
   "outputs": [
    {
     "name": "stdout",
     "output_type": "stream",
     "text": [
      "Hello upasana\n"
     ]
    }
   ],
   "source": [
    "def sayHello(name):\n",
    "    print('Hello', name)\n",
    "sayHello(\"upasana\")"
   ]
  },
  {
   "cell_type": "code",
   "execution_count": 9,
   "id": "4a91990d-0b50-41cf-ab51-ad9bc87d2ee6",
   "metadata": {},
   "outputs": [
    {
     "name": "stdout",
     "output_type": "stream",
     "text": [
      "Hello Mary\n"
     ]
    }
   ],
   "source": [
    "text = 'Mary'\n",
    "sayHello(text) "
   ]
  },
  {
   "cell_type": "code",
   "execution_count": 10,
   "id": "95e66e9b-2642-485f-8548-d9d98480ffc7",
   "metadata": {},
   "outputs": [
    {
     "name": "stdout",
     "output_type": "stream",
     "text": [
      "49\n"
     ]
    }
   ],
   "source": [
    "def square(x):\n",
    "  y = x*x\n",
    "  return y\n",
    "number = 7\n",
    "result = square(number) # Call the square() function which returns a result\n",
    "print(result)   "
   ]
  },
  {
   "cell_type": "code",
   "execution_count": 11,
   "id": "15a141b9-e936-48ef-8a1c-cf67e6c71fe8",
   "metadata": {},
   "outputs": [
    {
     "name": "stdout",
     "output_type": "stream",
     "text": [
      "1.4399999999999998e-06\n"
     ]
    }
   ],
   "source": [
    "print(square(1.2e-3)) "
   ]
  },
  {
   "cell_type": "code",
   "execution_count": 12,
   "id": "5edd9f67-426d-4a0d-9dd3-39a9ce1f8d66",
   "metadata": {},
   "outputs": [
    {
     "name": "stdout",
     "output_type": "stream",
     "text": [
      "5.999396\n"
     ]
    }
   ],
   "source": [
    "def calcFunc(x, y):\n",
    "  z = x*x + y*y\n",
    "  return z\n",
    "\n",
    "\n",
    "result = calcFunc(1.414, 2.0)\n",
    "print(result)  #  5.999396"
   ]
  },
  {
   "cell_type": "code",
   "execution_count": 13,
   "id": "07487e58-7288-4d16-abe8-9be72bd83846",
   "metadata": {},
   "outputs": [],
   "source": [
    "def calcDistance(vec1, vec2):    \n",
    "    dist = 0\n",
    "    for i in range(len(vec1)):\n",
    "        delta = vec1[i] - vec2[i]\n",
    "        dist += delta*delta\n",
    "    dist = dist**(1/2) # square-root\n",
    "    return dist"
   ]
  },
  {
   "cell_type": "code",
   "execution_count": 14,
   "id": "e0d31ecf-00a0-473f-8242-3b3d43ea8e44",
   "metadata": {},
   "outputs": [
    {
     "data": {
      "text/plain": [
       "19.914567532336726"
      ]
     },
     "execution_count": 14,
     "metadata": {},
     "output_type": "execute_result"
    }
   ],
   "source": [
    "w1 = ( 23.1, 17.8, -5.6 )\n",
    "w2 = ( 8.4, 15.9, 7.7 )\n",
    "calcDistance( w1, w2 )"
   ]
  },
  {
   "cell_type": "code",
   "execution_count": 15,
   "id": "430eca42-4e16-46ca-a2e6-0febc2090de5",
   "metadata": {},
   "outputs": [
    {
     "data": {
      "text/plain": [
       "2.8284271247461903"
      ]
     },
     "execution_count": 15,
     "metadata": {},
     "output_type": "execute_result"
    }
   ],
   "source": [
    "calcDistance( ( 1, 2 ), ( 3, 4 ) ) # dimension: 2"
   ]
  },
  {
   "cell_type": "code",
   "execution_count": 16,
   "id": "29eaec1c-a454-4788-b009-dbfce5bc5bc9",
   "metadata": {},
   "outputs": [
    {
     "data": {
      "text/plain": [
       "2.8284271247461903"
      ]
     },
     "execution_count": 16,
     "metadata": {},
     "output_type": "execute_result"
    }
   ],
   "source": [
    "calcDistance( [ 1, 2 ], [ 3, 4 ] ) # vectors represented as lists"
   ]
  },
  {
   "cell_type": "code",
   "execution_count": 17,
   "id": "04503e6d-bea9-4b73-82d1-cd9931122a26",
   "metadata": {},
   "outputs": [
    {
     "data": {
      "text/plain": [
       "2.8284271247461903"
      ]
     },
     "execution_count": 17,
     "metadata": {},
     "output_type": "execute_result"
    }
   ],
   "source": [
    "calcDistance( ( 1, 2 ), [ 3, 4 ] ) # mixed representation"
   ]
  },
  {
   "cell_type": "code",
   "execution_count": 18,
   "id": "43a15224-bd8e-4422-9426-6454803be833",
   "metadata": {},
   "outputs": [
    {
     "name": "stdout",
     "output_type": "stream",
     "text": [
      "getSign( 33.6 ): Positive\n",
      "getSign( -7 ): Negative\n",
      "getSign( 0 ): None\n"
     ]
    }
   ],
   "source": [
    "def getSign(value):\n",
    "    \n",
    "    if value > 0:\n",
    "        return \"Positive\"\n",
    "    \n",
    "    elif value < 0:\n",
    "        return \"Negative\"\n",
    "    \n",
    "    return # implicit 'None'\n",
    "\n",
    "    print(\"Hello world\") # execution does not reach this line\n",
    "    \n",
    "print(\"getSign( 33.6 ):\", getSign( 33.6 ))\n",
    "print(\"getSign( -7 ):\", getSign( -7 ))\n",
    "print(\"getSign( 0 ):\", getSign( 0 ))"
   ]
  },
  {
   "cell_type": "code",
   "execution_count": 19,
   "id": "c7149274-d399-4467-b501-6b08a5a53b97",
   "metadata": {},
   "outputs": [
    {
     "name": "stdout",
     "output_type": "stream",
     "text": [
      "Results as a tuple: (10, -4, 21)\n",
      "x: 10\n",
      "y: -4\n",
      "z: 21\n"
     ]
    }
   ],
   "source": [
    "def myFunction(value1, value2):\n",
    "    \n",
    "    total = value1 + value2\n",
    "    difference = value1 - value2\n",
    "    product = value1 * value2\n",
    "    \n",
    "    return total, difference, product\n",
    "\n",
    "values = myFunction( 3, 7 )  # Grab output as a whole tuple\n",
    "print(\"Results as a tuple:\", values)\n",
    "\n",
    "x, y, z = myFunction( 3, 7 ) # Unpack tuple to grab individual values\n",
    "print(\"x:\", x)\n",
    "print(\"y:\", y)\n",
    "print(\"z:\", z)"
   ]
  },
  {
   "cell_type": "code",
   "execution_count": 20,
   "id": "8ec9d4f2-c277-40f4-a867-406469facec2",
   "metadata": {},
   "outputs": [
    {
     "data": {
      "text/plain": [
       "4"
      ]
     },
     "execution_count": 20,
     "metadata": {},
     "output_type": "execute_result"
    }
   ],
   "source": [
    "def square(number):\n",
    "    # one mandatory argument\n",
    "    y = number*number\n",
    "    return y\n",
    "square(2)"
   ]
  },
  {
   "cell_type": "code",
   "execution_count": 21,
   "id": "c39f6a94-6d14-4b9f-8fa8-909ec8a6f880",
   "metadata": {},
   "outputs": [
    {
     "data": {
      "text/plain": [
       "4"
      ]
     },
     "execution_count": 21,
     "metadata": {},
     "output_type": "execute_result"
    }
   ],
   "source": [
    "square(number=2)"
   ]
  },
  {
   "cell_type": "code",
   "execution_count": 23,
   "id": "c222fb14-63b2-4bee-b9af-079b2dea26f7",
   "metadata": {},
   "outputs": [
    {
     "name": "stdout",
     "output_type": "stream",
     "text": [
      "abcabcabc\n",
      "XYZXYZXYZXYZ\n",
      "LMNLMNLMN\n"
     ]
    }
   ],
   "source": [
    "def repeat(seq, n):\n",
    "    # two mandatory arguments\n",
    "    result = ''\n",
    "    for i in range(0,n):\n",
    "        result += seq\n",
    "    return result\n",
    "\n",
    "print(repeat(\"abc\", 3))\n",
    "print(repeat(n=4, seq=\"XYZ\"))\n",
    "print(repeat(seq=\"LMN\", n=3))"
   ]
  },
  {
   "cell_type": "code",
   "execution_count": 24,
   "id": "da9274c3-a753-48a6-b012-d54cf1a8c9a0",
   "metadata": {},
   "outputs": [
    {
     "name": "stdout",
     "output_type": "stream",
     "text": [
      "Running simulation for 500 steps\n",
      "Running simulation for 1000 steps\n"
     ]
    }
   ],
   "source": [
    "def runSimulation(nsteps=1000):\n",
    "    print(\"Running simulation for\", nsteps, \"steps\")\n",
    "\n",
    "runSimulation(500)\n",
    "runSimulation()"
   ]
  },
  {
   "cell_type": "code",
   "execution_count": 25,
   "id": "96136568-998e-4c50-9348-2fa39fa8e0a7",
   "metadata": {},
   "outputs": [
    {
     "name": "stdout",
     "output_type": "stream",
     "text": [
      "[100]\n",
      "[100, 100]\n",
      "[100, 100, 100]\n",
      "[100]\n",
      "[100]\n",
      "[100]\n"
     ]
    }
   ],
   "source": [
    "def myFunction(parameters=[]):\n",
    "    parameters.append( 100 )\n",
    "    print(parameters)\n",
    "    \n",
    "myFunction()\n",
    "myFunction()\n",
    "myFunction()\n",
    "myFunction([])\n",
    "myFunction([])\n",
    "myFunction([])"
   ]
  },
  {
   "cell_type": "code",
   "execution_count": 26,
   "id": "1f47dc19-bcaa-4136-926f-b5824ab3f4a8",
   "metadata": {},
   "outputs": [
    {
     "name": "stdout",
     "output_type": "stream",
     "text": [
      "[100]\n",
      "[100, 100]\n",
      "[100, 100, 100]\n",
      "[100]\n"
     ]
    }
   ],
   "source": [
    "def myFunction(parameters):\n",
    "    # one mandatory argument without default value\n",
    "    parameters.append( 100 )\n",
    "    print(parameters)\n",
    "    \n",
    "my_list = []\n",
    "myFunction(my_list)\n",
    "myFunction(my_list)\n",
    "myFunction(my_list)\n",
    "my_new_list = []\n",
    "myFunction(my_new_list)"
   ]
  },
  {
   "cell_type": "code",
   "execution_count": 27,
   "id": "7ab99015-20ef-44d1-8109-50766cd4a42b",
   "metadata": {},
   "outputs": [
    {
     "name": "stdout",
     "output_type": "stream",
     "text": [
      "Running simulation starting at 300 K and doing 500 steps\n",
      "Running simulation starting at 300 K and doing 1000 steps\n"
     ]
    }
   ],
   "source": [
    "def runSimulation(initialTemperature, nsteps=1000):\n",
    "    # one mandatory argument followed by one with default value\n",
    "    print(\"Running simulation starting at\", initialTemperature, \"K and doing\", nsteps, \"steps\")\n",
    "    \n",
    "runSimulation(300, 500)\n",
    "runSimulation(300)"
   ]
  },
  {
   "cell_type": "code",
   "execution_count": 28,
   "id": "ca4879dc-16f1-4df0-8aef-f177a4db7271",
   "metadata": {},
   "outputs": [
    {
     "name": "stdout",
     "output_type": "stream",
     "text": [
      "Running simulation starting at 300 K and doing 100 steps\n"
     ]
    }
   ],
   "source": [
    "runSimulation( nsteps=100, initialTemperature=300 )"
   ]
  },
  {
   "cell_type": "code",
   "execution_count": 29,
   "id": "3d214ca9-ff09-46ec-bdcd-ca3a67d3a028",
   "metadata": {},
   "outputs": [
    {
     "name": "stdout",
     "output_type": "stream",
     "text": [
      "Running simulation starting at 300 K and doing 1000 steps\n"
     ]
    }
   ],
   "source": [
    "runSimulation( initialTemperature=300 )"
   ]
  },
  {
   "cell_type": "code",
   "execution_count": 33,
   "id": "8c5e1b9b-5ccf-4003-9624-cd0837dee1bc",
   "metadata": {},
   "outputs": [
    {
     "name": "stdout",
     "output_type": "stream",
     "text": [
      "Running simulation starting at 300 K and doing 100 steps\n"
     ]
    }
   ],
   "source": [
    "runSimulation( nsteps=100, initialTemperature=300 ) # "
   ]
  },
  {
   "cell_type": "code",
   "execution_count": 34,
   "id": "03b38a91-f0b7-4e27-9219-494e3150d52e",
   "metadata": {},
   "outputs": [
    {
     "ename": "SyntaxError",
     "evalue": "positional argument follows keyword argument (Temp/ipykernel_264/1125857090.py, line 1)",
     "output_type": "error",
     "traceback": [
      "\u001b[1;36m  File \u001b[1;32m\"C:\\Users\\KIIT\\AppData\\Local\\Temp/ipykernel_264/1125857090.py\"\u001b[1;36m, line \u001b[1;32m1\u001b[0m\n\u001b[1;33m    runSimulation( nsteps=100, 300 ) #\u001b[0m\n\u001b[1;37m                               ^\u001b[0m\n\u001b[1;31mSyntaxError\u001b[0m\u001b[1;31m:\u001b[0m positional argument follows keyword argument\n"
     ]
    }
   ],
   "source": [
    "runSimulation( nsteps=100, 300 ) # "
   ]
  },
  {
   "cell_type": "code",
   "execution_count": 35,
   "id": "e6a785eb-ee91-4f4f-bdf3-513161e6c237",
   "metadata": {},
   "outputs": [
    {
     "ename": "TypeError",
     "evalue": "runSimulation() got an unexpected keyword argument 'numsteps'",
     "output_type": "error",
     "traceback": [
      "\u001b[1;31m---------------------------------------------------------------------------\u001b[0m",
      "\u001b[1;31mTypeError\u001b[0m                                 Traceback (most recent call last)",
      "\u001b[1;32m~\\AppData\\Local\\Temp/ipykernel_264/2815219118.py\u001b[0m in \u001b[0;36m<module>\u001b[1;34m\u001b[0m\n\u001b[1;32m----> 1\u001b[1;33m \u001b[0mrunSimulation\u001b[0m\u001b[1;33m(\u001b[0m \u001b[0mnumsteps\u001b[0m\u001b[1;33m=\u001b[0m\u001b[1;36m100\u001b[0m\u001b[1;33m,\u001b[0m  \u001b[0minitialTemperature\u001b[0m\u001b[1;33m=\u001b[0m\u001b[1;36m300\u001b[0m \u001b[1;33m)\u001b[0m \u001b[1;31m#\u001b[0m\u001b[1;33m\u001b[0m\u001b[1;33m\u001b[0m\u001b[0m\n\u001b[0m",
      "\u001b[1;31mTypeError\u001b[0m: runSimulation() got an unexpected keyword argument 'numsteps'"
     ]
    }
   ],
   "source": [
    "runSimulation( numsteps=100,  initialTemperature=300 ) # "
   ]
  },
  {
   "cell_type": "code",
   "execution_count": 38,
   "id": "79dc97a1-9554-4a15-95b0-ce0f7570778e",
   "metadata": {},
   "outputs": [],
   "source": [
    "def badFunction( initialTemperature,nsteps=1000):\n",
    "    pass"
   ]
  },
  {
   "cell_type": "code",
   "execution_count": 39,
   "id": "e1a9a5b5-2005-4605-af7e-ae6ff5ffcfc9",
   "metadata": {},
   "outputs": [
    {
     "name": "stdout",
     "output_type": "stream",
     "text": [
      "-33\n"
     ]
    }
   ],
   "source": [
    "def mathFunction(x, y):\n",
    "    math_func_result = ( x + y ) * ( x - y )\n",
    "    return math_func_result\n",
    "answer = mathFunction( 4, 7 )\n",
    "print(answer)"
   ]
  },
  {
   "cell_type": "code",
   "execution_count": null,
   "id": "d0cf90e2-7014-4cbc-8fa8-0cc1f000d0aa",
   "metadata": {},
   "outputs": [],
   "source": []
  },
  {
   "cell_type": "code",
   "execution_count": 44,
   "id": "a70aa3a8-ec22-41f2-899c-80560e42dfa1",
   "metadata": {},
   "outputs": [
    {
     "ename": "UnboundLocalError",
     "evalue": "local variable 'counter' referenced before assignment",
     "output_type": "error",
     "traceback": [
      "\u001b[1;31m---------------------------------------------------------------------------\u001b[0m",
      "\u001b[1;31mUnboundLocalError\u001b[0m                         Traceback (most recent call last)",
      "\u001b[1;32m~\\AppData\\Local\\Temp/ipykernel_264/1556732596.py\u001b[0m in \u001b[0;36m<module>\u001b[1;34m\u001b[0m\n\u001b[0;32m      4\u001b[0m     \u001b[0mcounter\u001b[0m \u001b[1;33m+=\u001b[0m \u001b[1;36m1\u001b[0m\u001b[1;33m\u001b[0m\u001b[1;33m\u001b[0m\u001b[0m\n\u001b[0;32m      5\u001b[0m \u001b[1;33m\u001b[0m\u001b[0m\n\u001b[1;32m----> 6\u001b[1;33m \u001b[0mincrement\u001b[0m\u001b[1;33m(\u001b[0m\u001b[1;33m)\u001b[0m\u001b[1;33m\u001b[0m\u001b[1;33m\u001b[0m\u001b[0m\n\u001b[0m\u001b[0;32m      7\u001b[0m \u001b[0mprint\u001b[0m\u001b[1;33m(\u001b[0m\u001b[0mcounter\u001b[0m\u001b[1;33m)\u001b[0m\u001b[1;33m\u001b[0m\u001b[1;33m\u001b[0m\u001b[0m\n",
      "\u001b[1;32m~\\AppData\\Local\\Temp/ipykernel_264/1556732596.py\u001b[0m in \u001b[0;36mincrement\u001b[1;34m()\u001b[0m\n\u001b[0;32m      1\u001b[0m \u001b[0mcounter\u001b[0m \u001b[1;33m=\u001b[0m \u001b[1;36m1\u001b[0m\u001b[1;33m\u001b[0m\u001b[1;33m\u001b[0m\u001b[0m\n\u001b[0;32m      2\u001b[0m \u001b[1;32mdef\u001b[0m \u001b[0mincrement\u001b[0m\u001b[1;33m(\u001b[0m\u001b[1;33m)\u001b[0m\u001b[1;33m:\u001b[0m\u001b[1;33m\u001b[0m\u001b[1;33m\u001b[0m\u001b[0m\n\u001b[1;32m----> 3\u001b[1;33m     \u001b[0mprint\u001b[0m\u001b[1;33m(\u001b[0m\u001b[0mcounter\u001b[0m\u001b[1;33m)\u001b[0m\u001b[1;33m\u001b[0m\u001b[1;33m\u001b[0m\u001b[0m\n\u001b[0m\u001b[0;32m      4\u001b[0m     \u001b[0mcounter\u001b[0m \u001b[1;33m+=\u001b[0m \u001b[1;36m1\u001b[0m\u001b[1;33m\u001b[0m\u001b[1;33m\u001b[0m\u001b[0m\n\u001b[0;32m      5\u001b[0m \u001b[1;33m\u001b[0m\u001b[0m\n",
      "\u001b[1;31mUnboundLocalError\u001b[0m: local variable 'counter' referenced before assignment"
     ]
    }
   ],
   "source": [
    "counter = 1\n",
    "def increment(): \n",
    "    print(counter)\n",
    "    counter += 1\n",
    "\n",
    "increment()\n",
    "print(counter)"
   ]
  },
  {
   "cell_type": "code",
   "execution_count": 43,
   "id": "fffe63b9-0b8b-4ff4-a4f5-e17ac12db787",
   "metadata": {},
   "outputs": [
    {
     "name": "stdout",
     "output_type": "stream",
     "text": [
      "1\n",
      "2\n"
     ]
    }
   ],
   "source": [
    "counter = 1\n",
    "def increment(): \n",
    "    global counter\n",
    "    print(counter)\n",
    "    counter += 1\n",
    "\n",
    "increment()\n",
    "print(counter)"
   ]
  },
  {
   "cell_type": "code",
   "execution_count": 45,
   "id": "72280601-74c6-451c-be41-5ea9a8d68992",
   "metadata": {},
   "outputs": [
    {
     "name": "stdout",
     "output_type": "stream",
     "text": [
      "1\n"
     ]
    }
   ],
   "source": [
    "def increment(counter): \n",
    "    return counter + 1\n",
    "\n",
    "counter = 0\n",
    "counter = increment( counter ) \n",
    "print(counter)"
   ]
  },
  {
   "cell_type": "code",
   "execution_count": null,
   "id": "c5ed3a6e-d4df-47ed-af6f-4fd9f1804fee",
   "metadata": {},
   "outputs": [],
   "source": []
  }
 ],
 "metadata": {
  "kernelspec": {
   "display_name": "Python 3 (ipykernel)",
   "language": "python",
   "name": "python3"
  },
  "language_info": {
   "codemirror_mode": {
    "name": "ipython",
    "version": 3
   },
   "file_extension": ".py",
   "mimetype": "text/x-python",
   "name": "python",
   "nbconvert_exporter": "python",
   "pygments_lexer": "ipython3",
   "version": "3.8.12"
  }
 },
 "nbformat": 4,
 "nbformat_minor": 5
}
