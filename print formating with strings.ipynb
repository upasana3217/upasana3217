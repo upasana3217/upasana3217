{
 "cells": [
  {
   "cell_type": "code",
   "execution_count": 3,
   "id": "0a90ccef-cc83-4d3e-a43c-7e20d53006dc",
   "metadata": {},
   "outputs": [
    {
     "name": "stdout",
     "output_type": "stream",
     "text": [
      "Let's insert a string.\n"
     ]
    }
   ],
   "source": [
    "print(\"Let's insert a %s.\" %'string')"
   ]
  },
  {
   "cell_type": "code",
   "execution_count": 9,
   "id": "317295b8-e53b-47b0-84dc-8dac691e7d1e",
   "metadata": {},
   "outputs": [
    {
     "name": "stdout",
     "output_type": "stream",
     "text": [
      "let's add some text here and some more text here.\n"
     ]
    }
   ],
   "source": [
    "print(\"let's add some %s here and some more %s here.\" %('text','text'))"
   ]
  },
  {
   "cell_type": "code",
   "execution_count": 10,
   "id": "f8c96525-4dc9-4a41-8fc8-a6493e86bfc3",
   "metadata": {},
   "outputs": [
    {
     "name": "stdout",
     "output_type": "stream",
     "text": [
      "put some text here and some more.\n"
     ]
    }
   ],
   "source": [
    "x,y = 'some','more'\n",
    "print(\"put %s text here and some %s.\" %(x,y))"
   ]
  },
  {
   "cell_type": "code",
   "execution_count": 15,
   "id": "a1af8aee-5bcb-4784-99c9-388849835157",
   "metadata": {},
   "outputs": [
    {
     "name": "stdout",
     "output_type": "stream",
     "text": [
      "her name is lucy\n",
      "her name is 'lucy'\n"
     ]
    }
   ],
   "source": [
    "print(\"her name is %s\" %'lucy')\n",
    "print(\"her name is %r\" %'lucy')"
   ]
  },
  {
   "cell_type": "code",
   "execution_count": 17,
   "id": "b500cd04-1edb-4639-879e-38df45dbbcfe",
   "metadata": {},
   "outputs": [
    {
     "name": "stdout",
     "output_type": "stream",
     "text": [
      "her name is \tlucy\n",
      "her name is '\\tlucy'\n"
     ]
    }
   ],
   "source": [
    "print(\"her name is \\t%s\" %'lucy')\n",
    "print(\"her name is %r\" %'\\tlucy')"
   ]
  },
  {
   "cell_type": "code",
   "execution_count": 19,
   "id": "3ce41d5d-a122-437d-aa1a-01ecba1a560d",
   "metadata": {},
   "outputs": [
    {
     "name": "stdout",
     "output_type": "stream",
     "text": [
      "today's temperature is 15.25\n",
      "today's temperature is 15\n"
     ]
    }
   ],
   "source": [
    "print(\"today's temperature is %s\" %15.25)\n",
    "print(\"today's temperature is %d\" %15.25)"
   ]
  },
  {
   "cell_type": "code",
   "execution_count": 28,
   "id": "064900e0-1dda-4973-a7e9-b4d479bab6e6",
   "metadata": {},
   "outputs": [
    {
     "name": "stdout",
     "output_type": "stream",
     "text": [
      "floating point numbers are 754322.00\n",
      "floating point numbers are 754.99900\n",
      "floating point numbers are 754322\n",
      "floating point numbers are 754322.00\n",
      "floating point numbers are       754322.00\n"
     ]
    }
   ],
   "source": [
    "print(\"floating point numbers are %5.2f\" % 754321.999)\n",
    "print(\"floating point numbers are %2.5f\" % 754.999)\n",
    "print(\"floating point numbers are %5.0f\" % 754321.999)\n",
    "print(\"floating point numbers are %-5.2f\" % 754321.999)\n",
    "print(\"floating point numbers are %15.2f\" % 754321.999)"
   ]
  },
  {
   "cell_type": "code",
   "execution_count": 36,
   "id": "989d73b6-883c-4d8e-bbe7-966cd90407b6",
   "metadata": {},
   "outputs": [
    {
     "name": "stdout",
     "output_type": "stream",
     "text": [
      "first : 'hi' second : 3.14 third : bye\n"
     ]
    }
   ],
   "source": [
    "print(\"first : %r second : %2.2f third : %s\"%('hi',3.1417,'bye'))"
   ]
  },
  {
   "cell_type": "code",
   "execution_count": 43,
   "id": "7e047f4a-7036-41e1-910f-2376e8ae3dfe",
   "metadata": {},
   "outputs": [
    {
     "name": "stdout",
     "output_type": "stream",
     "text": [
      "print a string and also print a integer \n"
     ]
    }
   ],
   "source": [
    "print(\"print a {} and also print a {} \".format('string','integer'))"
   ]
  },
  {
   "cell_type": "code",
   "execution_count": 44,
   "id": "ec6ae0f0-c71a-4dc9-8fcd-20892512ca30",
   "metadata": {},
   "outputs": [
    {
     "name": "stdout",
     "output_type": "stream",
     "text": [
      "A quick brown fox \n"
     ]
    }
   ],
   "source": [
    "print(\"A {2} {1} {0} \".format('fox','brown','quick'))"
   ]
  },
  {
   "cell_type": "code",
   "execution_count": 45,
   "id": "a7a0f3ef-0c29-4ada-b77d-7c97bd058f61",
   "metadata": {},
   "outputs": [
    {
     "name": "stdout",
     "output_type": "stream",
     "text": [
      "A quick brown fox \n"
     ]
    }
   ],
   "source": [
    "print(\"A {a} {b} {c} \".format(c='fox',b='brown',a='quick'))"
   ]
  },
  {
   "cell_type": "code",
   "execution_count": 49,
   "id": "7cd1164d-f9a3-4930-af45-05a29ae22681",
   "metadata": {},
   "outputs": [
    {
     "name": "stdout",
     "output_type": "stream",
     "text": [
      "A penny saved is penny earned\n",
      "A penny saved is penny earned\n"
     ]
    }
   ],
   "source": [
    "print(\"A %s saved is %s earned\" %('penny','penny'))\n",
    "print(\"A {p} saved is {p} earned\".format(p='penny'))"
   ]
  },
  {
   "cell_type": "code",
   "execution_count": 4,
   "id": "24272b8e-d7e7-4445-87d4-1e7a6c00ff8f",
   "metadata": {},
   "outputs": [
    {
     "name": "stdout",
     "output_type": "stream",
     "text": [
      "Fruit    | Quantity\n",
      "Apples   |       3.0\n",
      "Orangess | 10\n"
     ]
    }
   ],
   "source": [
    "print('{0:8} | {1:1}'.format('Fruit', 'Quantity'))\n",
    "print('{0:8} | {1:9}'.format('Apples', 3.))\n",
    "print('{0:8} | {1:2}'.format('Orangess', 10))"
   ]
  },
  {
   "cell_type": "code",
   "execution_count": 7,
   "id": "0a980283-1e1b-440f-a87b-ddad6fb82bc1",
   "metadata": {},
   "outputs": [
    {
     "name": "stdout",
     "output_type": "stream",
     "text": [
      "left     |  center  |    right\n",
      "11       |    22    |       33\n"
     ]
    }
   ],
   "source": [
    "print('{0:<8} | {1:^8} | {2:>8}'.format('left','center','right'))\n",
    "print('{0:<8} | {1:^8} | {2:>8}'.format('11','22','33'))"
   ]
  },
  {
   "cell_type": "code",
   "execution_count": 9,
   "id": "c6bb01c0-3e07-49f2-aca2-7f3ca6a45217",
   "metadata": {},
   "outputs": [
    {
     "name": "stdout",
     "output_type": "stream",
     "text": [
      "left==== | -center- | ...right\n",
      "11====== | ---22--- | ......33\n"
     ]
    }
   ],
   "source": [
    "print('{0:=<8} | {1:-^8} | {2:.>8}'.format('left','center','right'))\n",
    "print('{0:=<8} | {1:-^8} | {2:.>8}'.format('11','22','33'))"
   ]
  },
  {
   "cell_type": "code",
   "execution_count": 12,
   "id": "6f88db3a-1e05-452d-a440-b4cb035d4735",
   "metadata": {},
   "outputs": [
    {
     "name": "stdout",
     "output_type": "stream",
     "text": [
      "This is 10 character with 2 decimal      13.57\n",
      "This is 10 character with 2 decimal      13.57\n"
     ]
    }
   ],
   "source": [
    "print('This is 10 character with 2 decimal %10.2f' %13.567)\n",
    "print('This is 10 character with 2 decimal {0:10.2f}'.format(13.567))"
   ]
  },
  {
   "cell_type": "code",
   "execution_count": 23,
   "id": "47bd9d98-404c-4c02-9f81-bb21787f6293",
   "metadata": {},
   "outputs": [
    {
     "name": "stdout",
     "output_type": "stream",
     "text": [
      "his name is fred\n",
      "his name is fred\n",
      "his name is 'fred'\n"
     ]
    }
   ],
   "source": [
    "name = 'fred'\n",
    "print('his name is %s' %name)\n",
    "print(f'his name is {name}')\n",
    "print(f'his name is {name!r}')"
   ]
  },
  {
   "cell_type": "code",
   "execution_count": 28,
   "id": "d37f8da7-5f01-4fa0-992a-6d1ea3830c91",
   "metadata": {},
   "outputs": [
    {
     "name": "stdout",
     "output_type": "stream",
     "text": [
      "my 10 characters with 4 decimal:   13.4568\n",
      "my 10 characters with 4 decimal:   13.4568\n"
     ]
    }
   ],
   "source": [
    "num = 13.456789\n",
    "print(\"my 10 characters with 4 decimal:{0:10.4f}\".format(num))\n",
    "print(f\"my 10 characters with 4 decimal:{num:{10}.{6}}\")"
   ]
  },
  {
   "cell_type": "code",
   "execution_count": 29,
   "id": "1f862d5c-0912-4010-bc4c-9abd117e8dfc",
   "metadata": {},
   "outputs": [
    {
     "name": "stdout",
     "output_type": "stream",
     "text": [
      "my 10 characters with 4 decimal:   13.4500\n",
      "my 10 characters with 4 decimal:     13.45\n"
     ]
    }
   ],
   "source": [
    "num = 13.45\n",
    "print(\"my 10 characters with 4 decimal:{0:10.4f}\".format(num))\n",
    "print(f\"my 10 characters with 4 decimal:{num:{10}.{4}}\")"
   ]
  },
  {
   "cell_type": "code",
   "execution_count": 30,
   "id": "795c872a-81ad-45ea-b7d8-9af0f1ee17c9",
   "metadata": {},
   "outputs": [
    {
     "name": "stdout",
     "output_type": "stream",
     "text": [
      "my 10 characters with 4 decimal:   13.4568\n",
      "my 10 characters with 4 decimal:   13.4568\n"
     ]
    }
   ],
   "source": [
    "num = 13.456789\n",
    "print(\"my 10 characters with 4 decimal:{0:10.4f}\".format(num))\n",
    "print(f\"my 10 characters with 4 decimal:{num:10.4f}\")"
   ]
  },
  {
   "cell_type": "code",
   "execution_count": null,
   "id": "bf86ed73-5f8f-406e-aa0e-9c761beea02d",
   "metadata": {},
   "outputs": [],
   "source": []
  }
 ],
 "metadata": {
  "kernelspec": {
   "display_name": "Python 3 (ipykernel)",
   "language": "python",
   "name": "python3"
  },
  "language_info": {
   "codemirror_mode": {
    "name": "ipython",
    "version": 3
   },
   "file_extension": ".py",
   "mimetype": "text/x-python",
   "name": "python",
   "nbconvert_exporter": "python",
   "pygments_lexer": "ipython3",
   "version": "3.8.12"
  }
 },
 "nbformat": 4,
 "nbformat_minor": 5
}
