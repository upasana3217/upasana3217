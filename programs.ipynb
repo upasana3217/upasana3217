{
 "cells": [
  {
   "cell_type": "code",
   "execution_count": 13,
   "id": "a5dbcedc-727f-4116-9879-d27f5687daac",
   "metadata": {},
   "outputs": [
    {
     "name": "stdin",
     "output_type": "stream",
     "text": [
      "enter the number :  2\n"
     ]
    },
    {
     "name": "stdout",
     "output_type": "stream",
     "text": [
      "2 * 1 = 2 \n",
      "2 * 2 = 4 \n",
      "2 * 3 = 6 \n",
      "2 * 4 = 8 \n",
      "2 * 5 = 10 \n",
      "2 * 6 = 12 \n",
      "2 * 7 = 14 \n",
      "2 * 8 = 16 \n",
      "2 * 9 = 18 \n",
      "2 * 10 = 20 \n"
     ]
    }
   ],
   "source": [
    "# wap to print table of n where n is entered by user \n",
    "n=int(input(\"enter the number : \"))\n",
    "for i in range (1,11):\n",
    "    print(\"%d * %d = %d \"%(n,i,n*i))"
   ]
  },
  {
   "cell_type": "code",
   "execution_count": 20,
   "id": "fcba37e6-257d-40ec-b786-68dc249c1cea",
   "metadata": {},
   "outputs": [
    {
     "name": "stdin",
     "output_type": "stream",
     "text": [
      "enter the value of n :  4\n"
     ]
    },
    {
     "name": "stdout",
     "output_type": "stream",
     "text": [
      "1 \n",
      "2 \n",
      "3 \n",
      "4 \n"
     ]
    }
   ],
   "source": [
    "# wap to print n natural numbers where n is entered by user\n",
    "n = int(input(\"enter the value of n : \"))\n",
    "for i in range (1,n+1):\n",
    "    print(\"%d \"%i)"
   ]
  },
  {
   "cell_type": "code",
   "execution_count": 22,
   "id": "d6234963-787a-4295-91e7-4445f3481e76",
   "metadata": {},
   "outputs": [
    {
     "name": "stdin",
     "output_type": "stream",
     "text": [
      "enter the value of n :  5\n"
     ]
    },
    {
     "name": "stdout",
     "output_type": "stream",
     "text": [
      "sum of 5 natural numbers is 15 \n"
     ]
    }
   ],
   "source": [
    "# wap to print sum of n natural numbers where n is entered by user\n",
    "n = int(input(\"enter the value of n : \"))\n",
    "sum=0\n",
    "for i in range (1,n+1):\n",
    "    sum=sum+i\n",
    "print(\"sum of %d natural numbers is %d \"%(n,sum))"
   ]
  },
  {
   "cell_type": "code",
   "execution_count": 24,
   "id": "4d1b1fe2-9680-4fbc-939d-048807e1518e",
   "metadata": {},
   "outputs": [
    {
     "name": "stdin",
     "output_type": "stream",
     "text": [
      "enter the value of n :  5\n"
     ]
    },
    {
     "name": "stdout",
     "output_type": "stream",
     "text": [
      "factorial of 5 is 120\n"
     ]
    }
   ],
   "source": [
    "# wap to print factorial of n where n is entered by user\n",
    "n = int(input(\"enter the value of n : \"))\n",
    "fact=1\n",
    "for i in range (1,n+1):\n",
    "    fact=fact*i\n",
    "print(\"factorial of %d is %d\"%(n,fact))"
   ]
  },
  {
   "cell_type": "code",
   "execution_count": null,
   "id": "14033476-6158-476b-a57f-0a8ba214d884",
   "metadata": {},
   "outputs": [],
   "source": [
    "#wap to input sales of the month and find its average\n",
    "n = int(input(\"enter the value of n : \"))\n",
    "sum=0\n",
    "for i in range (1,n+1):\n",
    "    tot=int(input(\"enter the sales : \"))\n",
    "    sum=sum+tot\n",
    "avg=sum/n\n",
    "print(\"average = %d\"%avg)"
   ]
  },
  {
   "cell_type": "code",
   "execution_count": null,
   "id": "67a27dca-bc0c-4495-a9c1-9f04cc428daf",
   "metadata": {},
   "outputs": [],
   "source": []
  }
 ],
 "metadata": {
  "kernelspec": {
   "display_name": "Python 3 (ipykernel)",
   "language": "python",
   "name": "python3"
  },
  "language_info": {
   "codemirror_mode": {
    "name": "ipython",
    "version": 3
   },
   "file_extension": ".py",
   "mimetype": "text/x-python",
   "name": "python",
   "nbconvert_exporter": "python",
   "pygments_lexer": "ipython3",
   "version": "3.8.12"
  }
 },
 "nbformat": 4,
 "nbformat_minor": 5
}
