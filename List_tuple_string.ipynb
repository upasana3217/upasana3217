{
 "cells": [
  {
   "cell_type": "code",
   "execution_count": 1,
   "id": "1710bc6a-35af-4bb6-9e4f-1ef4733935a2",
   "metadata": {},
   "outputs": [
    {
     "name": "stdout",
     "output_type": "stream",
     "text": [
      "spam\n",
      "['spam', 'eggs', 100, 1234]\n"
     ]
    }
   ],
   "source": [
    "a = ['spam', 'eggs', 100, 1234, 2*2]\n",
    "print(a[0])\n",
    "print(a[:4])"
   ]
  },
  {
   "cell_type": "code",
   "execution_count": 2,
   "id": "45ee8179-d3b4-473e-9da6-adbc5d1f28cb",
   "metadata": {},
   "outputs": [
    {
     "name": "stdout",
     "output_type": "stream",
     "text": [
      "['spam', 'eggs', 126, 1234, 4]\n"
     ]
    }
   ],
   "source": [
    "a[2]=a[2]+26\n",
    "print(a)"
   ]
  },
  {
   "cell_type": "code",
   "execution_count": 3,
   "id": "8a8efae3-b2fa-485b-8d7f-48264f439d64",
   "metadata": {},
   "outputs": [
    {
     "name": "stdout",
     "output_type": "stream",
     "text": [
      "[1, 12, 126, 1234, 4]\n"
     ]
    }
   ],
   "source": [
    "a[0:2] = [1,12]\n",
    "print(a)"
   ]
  },
  {
   "cell_type": "code",
   "execution_count": 4,
   "id": "60796dac-5379-486d-a0b8-d6152e30d9e6",
   "metadata": {},
   "outputs": [
    {
     "name": "stdout",
     "output_type": "stream",
     "text": [
      "[12, 126, 1234, 4]\n"
     ]
    }
   ],
   "source": [
    "a[0:1] = []\n",
    "print(a)"
   ]
  },
  {
   "cell_type": "code",
   "execution_count": 5,
   "id": "b66009c8-dac2-4104-ad1f-0ec61da88fc1",
   "metadata": {},
   "outputs": [
    {
     "name": "stdout",
     "output_type": "stream",
     "text": [
      "6\n"
     ]
    }
   ],
   "source": [
    "lis = [ 1, [5, 6], 7]\n",
    "print(lis[1][1])"
   ]
  },
  {
   "cell_type": "code",
   "execution_count": 6,
   "id": "af0438c5-eea8-4ab6-9ac0-221749a95910",
   "metadata": {},
   "outputs": [
    {
     "name": "stdout",
     "output_type": "stream",
     "text": [
      "range(0, 3)\n"
     ]
    }
   ],
   "source": [
    "list = range(3)\n",
    "print(list)"
   ]
  },
  {
   "cell_type": "code",
   "execution_count": 7,
   "id": "cc84d5f1-d399-4c8f-b796-92e3144ea645",
   "metadata": {},
   "outputs": [
    {
     "name": "stdout",
     "output_type": "stream",
     "text": [
      "Happy New Year: Joseph\n",
      "Happy New Year: Glenn\n",
      "Happy New Year: Sally\n"
     ]
    }
   ],
   "source": [
    "friends = ['Joseph', 'Glenn', 'Sally']\n",
    "for friend in friends :\n",
    "    print('Happy New Year:',  friend)"
   ]
  },
  {
   "cell_type": "code",
   "execution_count": 8,
   "id": "bad5207e-dd6f-4fb4-83cd-bc65cff84276",
   "metadata": {},
   "outputs": [
    {
     "name": "stdout",
     "output_type": "stream",
     "text": [
      "Happy New Year: Joseph\n",
      "Happy New Year: Glenn\n",
      "Happy New Year: Sally\n"
     ]
    }
   ],
   "source": [
    "for i in range(len(friends)) :\n",
    "    #friend = friends[i]\n",
    "    print('Happy New Year:',  friends[i])"
   ]
  },
  {
   "cell_type": "code",
   "execution_count": 9,
   "id": "4d5652c4-743a-4334-9ea2-1e3f331e66a5",
   "metadata": {},
   "outputs": [
    {
     "name": "stdout",
     "output_type": "stream",
     "text": [
      "['Sally', 'Joseph', 'Glenn']\n",
      "Joseph\n"
     ]
    }
   ],
   "source": [
    "friends.sort(reverse=True)\n",
    "print(friends)\n",
    "print(friends[1])"
   ]
  },
  {
   "cell_type": "code",
   "execution_count": 10,
   "id": "2341d83a-9770-4f67-9bd8-c18d8e0723d6",
   "metadata": {},
   "outputs": [
    {
     "data": {
      "text/plain": [
       "[15, 3, 41]"
      ]
     },
     "execution_count": 10,
     "metadata": {},
     "output_type": "execute_result"
    }
   ],
   "source": [
    "t = [9, 41, 12, 3, 74, 15]\n",
    "t[::-2]"
   ]
  },
  {
   "cell_type": "code",
   "execution_count": null,
   "id": "f2b0dfe3-ba30-448f-9879-ea82c7f5ae17",
   "metadata": {},
   "outputs": [],
   "source": []
  },
  {
   "cell_type": "code",
   "execution_count": 14,
   "id": "d3c10ca6-7f97-42a6-a4d5-a2574773c1fc",
   "metadata": {},
   "outputs": [
    {
     "name": "stdout",
     "output_type": "stream",
     "text": [
      "banana\n"
     ]
    }
   ],
   "source": [
    "fruit = 'Banana'\n",
    "#fruit[0] = 'b'\n",
    "x = fruit.lower()\n",
    "print(x)"
   ]
  },
  {
   "cell_type": "code",
   "execution_count": 17,
   "id": "af282f91-e878-4c0c-89e3-c9d2410daa79",
   "metadata": {},
   "outputs": [
    {
     "name": "stdin",
     "output_type": "stream",
     "text": [
      "Enter a number:  1\n",
      "Enter a number:  2\n",
      "Enter a number:  3\n",
      "Enter a number:  4\n",
      "Enter a number:  5\n",
      "Enter a number:  done\n"
     ]
    },
    {
     "name": "stdout",
     "output_type": "stream",
     "text": [
      "Average: 3.0\n"
     ]
    }
   ],
   "source": [
    "total = 0\n",
    "count = 0\n",
    "while True :\n",
    "    inp = input('Enter a number: ')\n",
    "    if inp == 'done' : \n",
    "        break\n",
    "    value = float(inp)\n",
    "    total = total + value     \n",
    "    count = count + 1\n",
    "average = total / count\n",
    "print('Average:', average)"
   ]
  },
  {
   "cell_type": "code",
   "execution_count": 18,
   "id": "069deda5-dfb6-45df-b7eb-0787e4789200",
   "metadata": {},
   "outputs": [
    {
     "name": "stdout",
     "output_type": "stream",
     "text": [
      "6\n",
      "74\n",
      "3\n",
      "154\n",
      "25.666666666666668\n"
     ]
    }
   ],
   "source": [
    "nums = [3, 41, 12, 9, 74, 15]\n",
    "print(len(nums))\n",
    "print(max(nums))\n",
    "print(min(nums))\n",
    "print(sum(nums))\n",
    "print(sum(nums)/len(nums))"
   ]
  },
  {
   "cell_type": "code",
   "execution_count": 19,
   "id": "e261f7ce-09c8-449f-b6c2-5edd7e93e47b",
   "metadata": {},
   "outputs": [
    {
     "name": "stdout",
     "output_type": "stream",
     "text": [
      "['Wit', ' t', 'ree words']\n",
      "3\n",
      "Wit\n"
     ]
    }
   ],
   "source": [
    "abc = 'With three words'\n",
    "stuff = abc.split('h')\n",
    "print(stuff)\n",
    "print(len(stuff))\n",
    "print(stuff[0])"
   ]
  },
  {
   "cell_type": "code",
   "execution_count": 20,
   "id": "e0522f1f-69de-48e4-8b8d-c3e1ed8104e5",
   "metadata": {},
   "outputs": [
    {
     "name": "stdout",
     "output_type": "stream",
     "text": [
      "['From', 'salman.amir@gmail.com', 'Sat', 'Jan', '5', '09:14:16', '2020']\n",
      "salman.amir@gmail.com\n",
      "gmail.com\n"
     ]
    }
   ],
   "source": [
    "line = 'From salman.amir@gmail.com Sat Jan  5 09:14:16 2020'\n",
    "words = line.split()\n",
    "print(words)\n",
    "email = words[1]\n",
    "print(email)\n",
    "pieces = email.split('@')\n",
    "print(pieces[1])"
   ]
  },
  {
   "cell_type": "code",
   "execution_count": 23,
   "id": "0d12ad30-017b-4b9b-9ba9-4bb1203b39cb",
   "metadata": {},
   "outputs": [
    {
     "name": "stdout",
     "output_type": "stream",
     "text": [
      "2\n",
      "dict_keys(['foo', 'bar'])\n"
     ]
    }
   ],
   "source": [
    "d = { \"foo\" : 1, \"bar\" : 2 }\n",
    "print(d[\"bar\"])   # 2\n",
    "some_dict = {}\n",
    "some_dict[\"foo\"] = \"yow!\"\n",
    "some_dict[\"bar\"] = \"Dog!\"\n",
    "print(some_dict.keys()) # [\"foo\"]"
   ]
  },
  {
   "cell_type": "code",
   "execution_count": 25,
   "id": "63e50823-cad9-475c-86ab-e6a16d72b298",
   "metadata": {},
   "outputs": [
    {
     "name": "stdout",
     "output_type": "stream",
     "text": [
      "Happy New Year: Joseph\n",
      "Happy New Year: Glenn\n",
      "Happy New Year: Sally\n"
     ]
    }
   ],
   "source": [
    "friends = ['Joseph', 'Glenn', 'Sally']\n",
    "for friend in friends :\n",
    "    print('Happy New Year:',  friend)"
   ]
  },
  {
   "cell_type": "code",
   "execution_count": 26,
   "id": "eb77e1f2-59bd-474a-95be-8fc9b87f210c",
   "metadata": {},
   "outputs": [
    {
     "name": "stdout",
     "output_type": "stream",
     "text": [
      "3\n",
      "0\n",
      "Happy New Year: Joseph\n",
      "3\n",
      "1\n",
      "Happy New Year: Glenn\n",
      "3\n",
      "2\n",
      "Happy New Year: Sally\n"
     ]
    }
   ],
   "source": [
    "for i in range(len(friends)) :\n",
    "    print(len(friends))\n",
    "    print(i)\n",
    "    friend = friends[i]\n",
    "    print('Happy New Year:',  friend)"
   ]
  },
  {
   "cell_type": "code",
   "execution_count": 30,
   "id": "8606c743-84f4-4d28-a911-142c2e675861",
   "metadata": {},
   "outputs": [
    {
     "name": "stdin",
     "output_type": "stream",
     "text": [
      "Enter a number:  1\n",
      "Enter a number:  2\n",
      "Enter a number:  3\n",
      "Enter a number:  4\n",
      "Enter a number:  5\n",
      "Enter a number:  done\n"
     ]
    }
   ],
   "source": [
    "total = 0\n",
    "count = 0\n",
    "while True :\n",
    "    inp = input('Enter a number: ')\n",
    "    if inp == 'done' : \n",
    "        break\n",
    "    value = float(inp)\n",
    "    total = total + value     \n",
    "    count = count + 1"
   ]
  },
  {
   "cell_type": "code",
   "execution_count": 31,
   "id": "4037ec5d-c3d2-4c0a-95c0-cfa8de471458",
   "metadata": {},
   "outputs": [
    {
     "name": "stdout",
     "output_type": "stream",
     "text": [
      "5\n"
     ]
    }
   ],
   "source": [
    "print(count)"
   ]
  },
  {
   "cell_type": "code",
   "execution_count": 32,
   "id": "cf7f12ad-35a9-4e40-9905-35ceabcfecce",
   "metadata": {},
   "outputs": [
    {
     "name": "stdout",
     "output_type": "stream",
     "text": [
      "15.0\n",
      "Average: 3.0\n"
     ]
    }
   ],
   "source": [
    "print(total)\n",
    "average = total / count\n",
    "print('Average:', average)"
   ]
  },
  {
   "cell_type": "code",
   "execution_count": 33,
   "id": "050082bf-bd39-4a5c-b231-c2ab9d69aac1",
   "metadata": {},
   "outputs": [
    {
     "data": {
      "text/plain": [
       "['From', 'salman.amir@gmail.com', 'Sat', 'Jan', '5', '09:14:16', '2020']"
      ]
     },
     "execution_count": 33,
     "metadata": {},
     "output_type": "execute_result"
    }
   ],
   "source": [
    "line = 'From salman.amir@gmail.com Sat Jan  5 09:14:16 2020'\n",
    "words = line.split()\n",
    "words"
   ]
  },
  {
   "cell_type": "code",
   "execution_count": 34,
   "id": "7cc33951-9b33-4d71-a473-62e8fd6777dc",
   "metadata": {},
   "outputs": [
    {
     "name": "stdout",
     "output_type": "stream",
     "text": [
      "salman.amir@gmail.com\n"
     ]
    }
   ],
   "source": [
    "email = words[1]\n",
    "print(email)"
   ]
  },
  {
   "cell_type": "code",
   "execution_count": 35,
   "id": "844911c6-ad79-4ed8-9a9d-000ff946dd44",
   "metadata": {},
   "outputs": [
    {
     "name": "stdout",
     "output_type": "stream",
     "text": [
      "gmail.com\n"
     ]
    }
   ],
   "source": [
    "pieces = email.split('@')\n",
    "print(pieces[1])"
   ]
  },
  {
   "cell_type": "code",
   "execution_count": 36,
   "id": "5bf57b40-8df9-4833-8f82-e5f40a1e30cf",
   "metadata": {},
   "outputs": [
    {
     "name": "stdout",
     "output_type": "stream",
     "text": [
      "(123, 54, 92)\n",
      "()\n",
      "('Ala',)\n",
      "(2, 3, False, 'Arg', None)\n"
     ]
    }
   ],
   "source": [
    "a = (123, 54, 92) # tuple of 3 integers\n",
    "b = () # empty tuple\n",
    "c = (\"Ala\",) # tuple of a single string (note the trailing \",\")\n",
    "d = (2, 3, False, \"Arg\", None) # a tuple of mixed types\n",
    "\n",
    "print(a)\n",
    "print(b)\n",
    "print(c)\n",
    "print(d)"
   ]
  },
  {
   "cell_type": "code",
   "execution_count": 37,
   "id": "40e20c68-6e00-450d-b36a-80ddd6690116",
   "metadata": {},
   "outputs": [
    {
     "name": "stdout",
     "output_type": "stream",
     "text": [
      "(1.2, -0.3, 0.9)\n"
     ]
    }
   ],
   "source": [
    "x = 1.2\n",
    "y = -0.3\n",
    "z = 0.9\n",
    "t = (x, y, z)\n",
    "\n",
    "print(t)"
   ]
  },
  {
   "cell_type": "code",
   "execution_count": 40,
   "id": "be21b175-31f3-447b-93ef-65b8e528ad39",
   "metadata": {},
   "outputs": [
    {
     "name": "stdout",
     "output_type": "stream",
     "text": [
      "t is (2, 3, 'Hi', [1, 2, 3])\n",
      "x is 2\n",
      "y is 3\n",
      "z is Hi\n",
      "a is [1, 2, 3]\n"
     ]
    }
   ],
   "source": [
    "l = 2, 3, \"Hi\", [1,2,3] # tuple packing\n",
    "print('t is', l)\n",
    "x, y, z, a = l # tuple unpacking\n",
    "print('x is', x)\n",
    "print('y is', y)\n",
    "print('z is', z)\n",
    "print('a is', a)"
   ]
  },
  {
   "cell_type": "code",
   "execution_count": 42,
   "id": "891e6bf9-c793-453d-80bb-03e88d42eedf",
   "metadata": {},
   "outputs": [
    {
     "name": "stdout",
     "output_type": "stream",
     "text": [
      "<class 'tuple'>\n"
     ]
    },
    {
     "data": {
      "text/plain": [
       "[1, 2, 3]"
      ]
     },
     "execution_count": 42,
     "metadata": {},
     "output_type": "execute_result"
    }
   ],
   "source": [
    "print(type(l))\n",
    "l[3]"
   ]
  },
  {
   "cell_type": "code",
   "execution_count": 43,
   "id": "3f550f27-a408-4a68-b06f-4edbd142cf30",
   "metadata": {},
   "outputs": [
    {
     "name": "stdout",
     "output_type": "stream",
     "text": [
      "[1, 3, 9, 'Py', 217.213]\n",
      "['Python']\n",
      "[]\n"
     ]
    }
   ],
   "source": [
    "a = [1, 3, 9, 'Py', 217.213]\n",
    "b = [\"Python\"]\n",
    "c = []\n",
    "\n",
    "print(a)\n",
    "print(b)\n",
    "print(c)"
   ]
  },
  {
   "cell_type": "code",
   "execution_count": 44,
   "id": "1acdcb9c-bedb-4d5a-b27a-218d95eade37",
   "metadata": {},
   "outputs": [
    {
     "name": "stdin",
     "output_type": "stream",
     "text": [
      " 1\n",
      " s\n",
      " we\n",
      " 56.98\n"
     ]
    },
    {
     "name": "stdout",
     "output_type": "stream",
     "text": [
      "[['1', 's'], ['we', '56.98']]\n"
     ]
    }
   ],
   "source": [
    "matrix = [[input(),input()], [input(),input()]]\n",
    "print(matrix)"
   ]
  },
  {
   "cell_type": "code",
   "execution_count": 47,
   "id": "d579203b-eb8f-4347-ba7e-7e2ed9af1d62",
   "metadata": {},
   "outputs": [
    {
     "name": "stdout",
     "output_type": "stream",
     "text": [
      "t is (123, 54, 92, 87, 33)\n",
      "t[0] is 123\n",
      "t[2] is 92\n",
      "x is [123, 54, 92, 87, 33]\n",
      "x[-1] is 33\n"
     ]
    }
   ],
   "source": [
    "t = (123, 54, 92, 87, 33)\n",
    "x = [123, 54, 92, 87, 33]\n",
    "\n",
    "print('t is', t)\n",
    "print('t[0] is', t[0])\n",
    "print('t[2] is', t[2])\n",
    "\n",
    "print('x is', x)\n",
    "print('x[-1] is', x[-1])"
   ]
  },
  {
   "cell_type": "code",
   "execution_count": 48,
   "id": "2b7abe22-97ee-4240-a57b-1c0afbdd743a",
   "metadata": {},
   "outputs": [
    {
     "name": "stdout",
     "output_type": "stream",
     "text": [
      "t[1:3] is (54, 92)\n",
      "x[2:] is [92, 87, 33]\n",
      "x[:-1] is [123, 54, 92, 87]\n"
     ]
    }
   ],
   "source": [
    "t = (123, 54, 92, 87, 33)\n",
    "x = [123, 54, 92, 87, 33]\n",
    "print('t[1:3] is', t[1:3])\n",
    "print('x[2:] is', x[2:])\n",
    "print('x[:-1] is', x[:-1])"
   ]
  },
  {
   "cell_type": "code",
   "execution_count": 49,
   "id": "68f919fb-7c01-45f8-b95a-f27b065a86ea",
   "metadata": {},
   "outputs": [
    {
     "name": "stdout",
     "output_type": "stream",
     "text": [
      "123 in [123, 54, 92, 87, 33] True\n",
      "234 in (123, 54, 92, 87, 33) False\n",
      "999 not in [123, 54, 92, 87, 33] True\n"
     ]
    }
   ],
   "source": [
    "t = (123, 54, 92, 87, 33)\n",
    "x = [123, 54, 92, 87, 33]\n",
    "print('123 in', x, 123 in x)\n",
    "print('234 in', t, 234 in t)\n",
    "print('999 not in', x, 999 not in x)"
   ]
  },
  {
   "cell_type": "code",
   "execution_count": 50,
   "id": "43e86c55-6863-4657-b629-d5283eca08ea",
   "metadata": {},
   "outputs": [
    {
     "data": {
      "text/plain": [
       "[3, 4, 5]"
      ]
     },
     "execution_count": 50,
     "metadata": {},
     "output_type": "execute_result"
    }
   ],
   "source": [
    "a = [1, 2, 3, 4, 5]\n",
    "\n",
    "a[2:]"
   ]
  },
  {
   "cell_type": "code",
   "execution_count": 51,
   "id": "afa4827c-f0cb-4580-9cf8-535369658ba8",
   "metadata": {},
   "outputs": [
    {
     "name": "stdout",
     "output_type": "stream",
     "text": [
      "length of t is 5\n",
      "number of 33s in x is 1\n"
     ]
    }
   ],
   "source": [
    "t = (123, 54, 92, 87, 33)\n",
    "x = [123, 54, 92, 87, 33]\n",
    "print(\"length of t is\", len(t))\n",
    "print(\"number of 33s in x is\", x.count(33))"
   ]
  },
  {
   "cell_type": "code",
   "execution_count": 52,
   "id": "3f64a3d5-b893-4fd8-ab27-24d70c2b39ac",
   "metadata": {},
   "outputs": [
    {
     "name": "stdout",
     "output_type": "stream",
     "text": [
      "[123, 54, 92, 87, 33]\n",
      "[123, 54, 33, 87, 33]\n"
     ]
    }
   ],
   "source": [
    "x = [123, 54, 92, 87, 33]\n",
    "print(x)\n",
    "x[2] = 33\n",
    "print(x)"
   ]
  },
  {
   "cell_type": "code",
   "execution_count": 53,
   "id": "ed99d222-add5-42ce-b580-f79a6bf142d5",
   "metadata": {},
   "outputs": [
    {
     "name": "stdout",
     "output_type": "stream",
     "text": [
      "(123, 54, 92, 87, 33)\n"
     ]
    },
    {
     "ename": "TypeError",
     "evalue": "'tuple' object does not support item assignment",
     "output_type": "error",
     "traceback": [
      "\u001b[1;31m---------------------------------------------------------------------------\u001b[0m",
      "\u001b[1;31mTypeError\u001b[0m                                 Traceback (most recent call last)",
      "\u001b[1;32m~\\AppData\\Local\\Temp/ipykernel_4724/2439019380.py\u001b[0m in \u001b[0;36m<module>\u001b[1;34m\u001b[0m\n\u001b[0;32m      1\u001b[0m \u001b[0mt\u001b[0m \u001b[1;33m=\u001b[0m \u001b[1;33m(\u001b[0m\u001b[1;36m123\u001b[0m\u001b[1;33m,\u001b[0m \u001b[1;36m54\u001b[0m\u001b[1;33m,\u001b[0m \u001b[1;36m92\u001b[0m\u001b[1;33m,\u001b[0m \u001b[1;36m87\u001b[0m\u001b[1;33m,\u001b[0m \u001b[1;36m33\u001b[0m\u001b[1;33m)\u001b[0m\u001b[1;33m\u001b[0m\u001b[1;33m\u001b[0m\u001b[0m\n\u001b[0;32m      2\u001b[0m \u001b[0mprint\u001b[0m\u001b[1;33m(\u001b[0m\u001b[0mt\u001b[0m\u001b[1;33m)\u001b[0m\u001b[1;33m\u001b[0m\u001b[1;33m\u001b[0m\u001b[0m\n\u001b[1;32m----> 3\u001b[1;33m \u001b[0mt\u001b[0m\u001b[1;33m[\u001b[0m\u001b[1;36m1\u001b[0m\u001b[1;33m]\u001b[0m \u001b[1;33m=\u001b[0m \u001b[1;36m4\u001b[0m\u001b[1;33m\u001b[0m\u001b[1;33m\u001b[0m\u001b[0m\n\u001b[0m",
      "\u001b[1;31mTypeError\u001b[0m: 'tuple' object does not support item assignment"
     ]
    }
   ],
   "source": [
    "t = (123, 54, 92, 87, 33)\n",
    "print(t)\n",
    "t[1] = 4"
   ]
  },
  {
   "cell_type": "code",
   "execution_count": 54,
   "id": "f49586e6-0b24-47b8-b185-7baab66c7384",
   "metadata": {},
   "outputs": [
    {
     "name": "stdout",
     "output_type": "stream",
     "text": [
      "[123, 54, 92, 87, 33, 101]\n"
     ]
    }
   ],
   "source": [
    "x = [123, 54, 92, 87, 33]\n",
    "x.append(101)\n",
    "print(x)"
   ]
  },
  {
   "cell_type": "code",
   "execution_count": 55,
   "id": "969f7506-c015-4676-bf02-9890562d31a6",
   "metadata": {},
   "outputs": [
    {
     "name": "stdout",
     "output_type": "stream",
     "text": [
      "[123, 54, 92, 1111, 87, 33]\n"
     ]
    }
   ],
   "source": [
    "x = [123, 54, 92, 87, 33]\n",
    "x.insert(3, 1111)\n",
    "print(x)"
   ]
  },
  {
   "cell_type": "code",
   "execution_count": 56,
   "id": "ebac812c-4f1d-47fa-9712-6b75cc7273fd",
   "metadata": {},
   "outputs": [
    {
     "name": "stdout",
     "output_type": "stream",
     "text": [
      "[54, 92, 87, 33]\n"
     ]
    }
   ],
   "source": [
    "x = [123, 54, 92, 87, 33]\n",
    "x.remove(123)\n",
    "print(x)"
   ]
  },
  {
   "cell_type": "code",
   "execution_count": 59,
   "id": "4b7cdd5d-ef14-46d1-871d-ce5b094d7e6b",
   "metadata": {},
   "outputs": [
    {
     "name": "stdout",
     "output_type": "stream",
     "text": [
      "[123, 54, 92, 87, 33]\n",
      "[54, 92, 87, 33]\n"
     ]
    }
   ],
   "source": [
    "x = [123, 54, 92, 87, 33]\n",
    "print(x)\n",
    "del x[0]\n",
    "print(x)"
   ]
  },
  {
   "cell_type": "code",
   "execution_count": 60,
   "id": "8cc397cc-1dfe-4131-ae47-66f7064f61dd",
   "metadata": {},
   "outputs": [
    {
     "name": "stdout",
     "output_type": "stream",
     "text": [
      "[1, 2, 3, 4, 5, 6]\n",
      "[1, 2, 3, 4, 5, 6, [4, 5, 6]]\n",
      "[1, 2, 3, 4, 5, 6, [4, 5, 6], 'Hi']\n"
     ]
    }
   ],
   "source": [
    "a = [1,2,3]\n",
    "b = [4,5,6]\n",
    "c = \"Hi\"\n",
    "a.extend(b)\n",
    "print(a)\n",
    "a.append(b)\n",
    "print(a)\n",
    "a.append(c)\n",
    "print(a)"
   ]
  },
  {
   "cell_type": "code",
   "execution_count": 61,
   "id": "54fc960a-fe09-4c95-9b09-23760d94f635",
   "metadata": {},
   "outputs": [
    {
     "name": "stdout",
     "output_type": "stream",
     "text": [
      "[1, 2, 3, 4, 5, 6]\n"
     ]
    }
   ],
   "source": [
    "a = [1, 2, 3]\n",
    "b = [4, 5, 6]\n",
    "a = a + b\n",
    "print(a)"
   ]
  },
  {
   "cell_type": "code",
   "execution_count": 62,
   "id": "2c4d6ae2-f472-4c8d-a2b8-7a90f35daa54",
   "metadata": {},
   "outputs": [
    {
     "name": "stdout",
     "output_type": "stream",
     "text": [
      "[1, ([9, 9, 9, 9], [9, 9, 9, 9], [9, 9, 9, 9], [9, 9, 9, 9]), 3, 4, 5, 6]\n"
     ]
    }
   ],
   "source": [
    "a = [1, 2, 3, 4, 5, 6]\n",
    "a[1] = [9, 9, 9, 9],[9, 9, 9, 9],[9, 9, 9, 9],[9, 9, 9, 9]\n",
    "print(a)"
   ]
  },
  {
   "cell_type": "code",
   "execution_count": 65,
   "id": "ccde0ea8-288e-4ef4-a090-8ceda88b1fee",
   "metadata": {},
   "outputs": [
    {
     "name": "stdout",
     "output_type": "stream",
     "text": [
      "[2, 4, 6, 5, 3, 1]\n",
      "[1, 2, 3, 4, 5, 6]\n",
      "None\n"
     ]
    }
   ],
   "source": [
    "a = [1, 3, 5,6, 4, 2]\n",
    "a.reverse()\n",
    "print(a)\n",
    "b = []\n",
    "b = a.sort()\n",
    "print(a)\n",
    "print(b)"
   ]
  },
  {
   "cell_type": "code",
   "execution_count": 66,
   "id": "16a259f6-f552-4dd0-8f8e-2aad8c26c25d",
   "metadata": {},
   "outputs": [
    {
     "name": "stdout",
     "output_type": "stream",
     "text": [
      "[2, 5, 7, 1]\n",
      "[1, 2, 5, 7]\n"
     ]
    }
   ],
   "source": [
    "a = [2, 5, 7, 1]\n",
    "b = sorted(a)\n",
    "print(a)\n",
    "print(b)"
   ]
  },
  {
   "cell_type": "code",
   "execution_count": 67,
   "id": "a0464bd0-571e-4167-a614-fd3e49a90ad1",
   "metadata": {},
   "outputs": [
    {
     "name": "stdout",
     "output_type": "stream",
     "text": [
      "A\n",
      "G\n",
      "ABCDEF\n",
      "True\n",
      "False\n",
      "8\n"
     ]
    }
   ],
   "source": [
    "text = \"ABCDEFGH\"\n",
    "print(text[0])\n",
    "print(text[-2])\n",
    "print(text[0:6])\n",
    "print(\"EFG\" in text)\n",
    "print(\"ABBC\" in text)\n",
    "print(len(text))"
   ]
  },
  {
   "cell_type": "code",
   "execution_count": 68,
   "id": "ee7fc181-352d-4510-9a2c-bd2223b7774a",
   "metadata": {},
   "outputs": [
    {
     "ename": "TypeError",
     "evalue": "'str' object does not support item assignment",
     "output_type": "error",
     "traceback": [
      "\u001b[1;31m---------------------------------------------------------------------------\u001b[0m",
      "\u001b[1;31mTypeError\u001b[0m                                 Traceback (most recent call last)",
      "\u001b[1;32m~\\AppData\\Local\\Temp/ipykernel_4724/3994446454.py\u001b[0m in \u001b[0;36m<module>\u001b[1;34m\u001b[0m\n\u001b[0;32m      1\u001b[0m \u001b[0mtext\u001b[0m \u001b[1;33m=\u001b[0m \u001b[1;34m\"ABCDEFGH\"\u001b[0m\u001b[1;33m\u001b[0m\u001b[1;33m\u001b[0m\u001b[0m\n\u001b[1;32m----> 2\u001b[1;33m \u001b[0mtext\u001b[0m\u001b[1;33m[\u001b[0m\u001b[1;36m0\u001b[0m\u001b[1;33m:\u001b[0m\u001b[1;36m2\u001b[0m\u001b[1;33m]\u001b[0m \u001b[1;33m=\u001b[0m \u001b[1;34m\"CCC\"\u001b[0m\u001b[1;33m\u001b[0m\u001b[1;33m\u001b[0m\u001b[0m\n\u001b[0m",
      "\u001b[1;31mTypeError\u001b[0m: 'str' object does not support item assignment"
     ]
    }
   ],
   "source": [
    "text = \"ABCDEFGH\"\n",
    "text[0:2] = \"CCC\""
   ]
  },
  {
   "cell_type": "code",
   "execution_count": 69,
   "id": "e1f03af0-5960-4b87-ad44-7add3be8b03e",
   "metadata": {},
   "outputs": [
    {
     "name": "stdout",
     "output_type": "stream",
     "text": [
      "CDE is at position: 2\n",
      "CDE is at position: 8\n",
      "The last C is at position: 8\n"
     ]
    }
   ],
   "source": [
    "string = \"ABCDEDCBCDEA\"\n",
    "index = string.find(\"CDE\")\n",
    "print(\"CDE is at position:\", index)\n",
    "index = string.rfind(\"CDE\")\n",
    "print(\"CDE is at position:\", index)\n",
    "index = string.rfind('C')\n",
    "print(\"The last C is at position:\", index)"
   ]
  },
  {
   "cell_type": "code",
   "execution_count": 70,
   "id": "31626b9f-edc5-41e6-83c5-268b99e14341",
   "metadata": {},
   "outputs": [
    {
     "name": "stdout",
     "output_type": "stream",
     "text": [
      "27 .      My name is Python      .\n",
      "22 .      My name is Python .\n",
      "22 . My name is Python      .\n",
      "17 . My name is Python .\n"
     ]
    }
   ],
   "source": [
    "s = \"     My name is Python     \"\n",
    "print(len(s), \".\", s, \".\")\n",
    "print(len(s.rstrip()), \".\", s.rstrip(), \".\")\n",
    "print(len(s.lstrip()), \".\", s.lstrip(), \".\")\n",
    "print(len(s.strip()), \".\", s.strip(),\".\")"
   ]
  },
  {
   "cell_type": "code",
   "execution_count": 73,
   "id": "8f97fe98-791f-43eb-ad7f-596552d32cdd",
   "metadata": {},
   "outputs": [
    {
     "name": "stdout",
     "output_type": "stream",
     "text": [
      "['My', 'name', 'is', 'Python']\n",
      "My|name|is|Python\n"
     ]
    }
   ],
   "source": [
    "string = \"My name is Python\"\n",
    "words = string.split(\" \")\n",
    "print(words)\n",
    "print(\"|\".join(words))"
   ]
  },
  {
   "cell_type": "code",
   "execution_count": 74,
   "id": "bcff0dce-ab2f-4987-8978-21e9aac866be",
   "metadata": {},
   "outputs": [
    {
     "name": "stdout",
     "output_type": "stream",
     "text": [
      "Python3.6\n"
     ]
    }
   ],
   "source": [
    "language = \"Python\"\n",
    "version = 3.6\n",
    "print(language + str(version))"
   ]
  },
  {
   "cell_type": "code",
   "execution_count": 75,
   "id": "883fa471-ca34-402c-85c7-3eacf910ea4a",
   "metadata": {},
   "outputs": [
    {
     "name": "stdout",
     "output_type": "stream",
     "text": [
      "{1, 2, 3}\n",
      "set()\n"
     ]
    }
   ],
   "source": [
    "l = [1, 2, 3, 2, 3] # list of 5 values\n",
    "s = set(l) # set of 3 unique values\n",
    "print(s)\n",
    "e = set() # empty set\n",
    "print(e)"
   ]
  },
  {
   "cell_type": "code",
   "execution_count": 76,
   "id": "c43e332e-4fda-4164-ad66-44b2fe5bdf56",
   "metadata": {},
   "outputs": [
    {
     "name": "stdout",
     "output_type": "stream",
     "text": [
      "{1, 2, 3}\n",
      "number in set: 3\n",
      "{1, 2, 3, 4}\n",
      "{1, 2, 3, 4}\n"
     ]
    }
   ],
   "source": [
    "s = set([1, 2, 3, 2, 3])\n",
    "print(s)\n",
    "print(\"number in set:\", len(s))\n",
    "s.add(4)\n",
    "print(s)\n",
    "s.add(3)\n",
    "print(s)"
   ]
  },
  {
   "cell_type": "code",
   "execution_count": 77,
   "id": "990fa176-a99a-4001-8625-ee748edb2012",
   "metadata": {},
   "outputs": [
    {
     "name": "stdout",
     "output_type": "stream",
     "text": [
      "{1, 2, 3}\n",
      "{1, 2}\n"
     ]
    }
   ],
   "source": [
    "s = set([1, 2, 3, 2, 3])\n",
    "print(s)\n",
    "s.remove(3)\n",
    "print(s)"
   ]
  },
  {
   "cell_type": "code",
   "execution_count": 78,
   "id": "2b85b25e-c2d0-481a-b255-a3fb0c76e6ac",
   "metadata": {},
   "outputs": [
    {
     "name": "stdout",
     "output_type": "stream",
     "text": [
      "Union: {2, 4, 5, 6, 7, 8, 10}\n",
      "Intersection: {4, 6}\n"
     ]
    }
   ],
   "source": [
    "s1 = set([2, 4, 6, 8, 10])\n",
    "s2 = set([4, 5, 6, 7])\n",
    "\n",
    "print(\"Union:\", s1 | s2)\n",
    "print(\"Intersection:\", s1 & s2)"
   ]
  },
  {
   "cell_type": "code",
   "execution_count": 79,
   "id": "b4dc6667-2b2a-4b13-b33a-7db9df02166c",
   "metadata": {},
   "outputs": [
    {
     "name": "stdout",
     "output_type": "stream",
     "text": [
      "{'A': 'Cricket', 'B': 'Football', 'C': 'Hockey', 'D': 'Badminton'}\n"
     ]
    },
    {
     "data": {
      "text/plain": [
       "'Hockey'"
      ]
     },
     "execution_count": 79,
     "metadata": {},
     "output_type": "execute_result"
    }
   ],
   "source": [
    "sports = {\"A\": \"Cricket\", \"B\": \"Football\", \"C\": \"Hockey\", \"D\": \"Badminton\"}\n",
    "print(sports)\n",
    "\n",
    "sports['C']"
   ]
  },
  {
   "cell_type": "code",
   "execution_count": 80,
   "id": "574636d6-3b83-4e63-a253-5116ffbf3f84",
   "metadata": {},
   "outputs": [
    {
     "name": "stdout",
     "output_type": "stream",
     "text": [
      "A represents Cricket\n"
     ]
    },
    {
     "ename": "KeyError",
     "evalue": "'G'",
     "output_type": "error",
     "traceback": [
      "\u001b[1;31m---------------------------------------------------------------------------\u001b[0m",
      "\u001b[1;31mKeyError\u001b[0m                                  Traceback (most recent call last)",
      "\u001b[1;32m~\\AppData\\Local\\Temp/ipykernel_4724/3155849335.py\u001b[0m in \u001b[0;36m<module>\u001b[1;34m\u001b[0m\n\u001b[0;32m      1\u001b[0m \u001b[0msports\u001b[0m \u001b[1;33m=\u001b[0m \u001b[1;33m{\u001b[0m\u001b[1;34m\"A\"\u001b[0m\u001b[1;33m:\u001b[0m \u001b[1;34m\"Cricket\"\u001b[0m\u001b[1;33m,\u001b[0m \u001b[1;34m\"B\"\u001b[0m\u001b[1;33m:\u001b[0m \u001b[1;34m\"Football\"\u001b[0m\u001b[1;33m,\u001b[0m \u001b[1;34m\"C\"\u001b[0m\u001b[1;33m:\u001b[0m \u001b[1;34m\"Hockey\"\u001b[0m\u001b[1;33m,\u001b[0m \u001b[1;34m\"D\"\u001b[0m\u001b[1;33m:\u001b[0m \u001b[1;34m\"Badminton\"\u001b[0m\u001b[1;33m}\u001b[0m\u001b[1;33m\u001b[0m\u001b[1;33m\u001b[0m\u001b[0m\n\u001b[0;32m      2\u001b[0m \u001b[0mprint\u001b[0m\u001b[1;33m(\u001b[0m\u001b[1;34m\"A represents\"\u001b[0m\u001b[1;33m,\u001b[0m \u001b[0msports\u001b[0m\u001b[1;33m[\u001b[0m\u001b[1;34m\"A\"\u001b[0m\u001b[1;33m]\u001b[0m\u001b[1;33m)\u001b[0m\u001b[1;33m\u001b[0m\u001b[1;33m\u001b[0m\u001b[0m\n\u001b[1;32m----> 3\u001b[1;33m \u001b[0mprint\u001b[0m\u001b[1;33m(\u001b[0m\u001b[1;34m\"G represents\"\u001b[0m\u001b[1;33m,\u001b[0m \u001b[0msports\u001b[0m\u001b[1;33m[\u001b[0m\u001b[1;34m\"G\"\u001b[0m\u001b[1;33m]\u001b[0m\u001b[1;33m)\u001b[0m\u001b[1;33m\u001b[0m\u001b[1;33m\u001b[0m\u001b[0m\n\u001b[0m",
      "\u001b[1;31mKeyError\u001b[0m: 'G'"
     ]
    }
   ],
   "source": [
    "sports = {\"A\": \"Cricket\", \"B\": \"Football\", \"C\": \"Hockey\", \"D\": \"Badminton\"}\n",
    "print(\"A represents\", sports[\"A\"])\n",
    "print(\"G represents\", sports[\"G\"])"
   ]
  },
  {
   "cell_type": "code",
   "execution_count": 81,
   "id": "3da7e780-7b55-48b6-88eb-9cbd4a1a8833",
   "metadata": {},
   "outputs": [
    {
     "ename": "KeyError",
     "evalue": "'N'",
     "output_type": "error",
     "traceback": [
      "\u001b[1;31m---------------------------------------------------------------------------\u001b[0m",
      "\u001b[1;31mKeyError\u001b[0m                                  Traceback (most recent call last)",
      "\u001b[1;32m~\\AppData\\Local\\Temp/ipykernel_4724/1527931338.py\u001b[0m in \u001b[0;36m<module>\u001b[1;34m\u001b[0m\n\u001b[0;32m      1\u001b[0m \u001b[0msports\u001b[0m \u001b[1;33m=\u001b[0m \u001b[1;33m{\u001b[0m\u001b[1;34m\"A\"\u001b[0m\u001b[1;33m:\u001b[0m \u001b[1;34m\"Cricket\"\u001b[0m\u001b[1;33m,\u001b[0m \u001b[1;34m\"B\"\u001b[0m\u001b[1;33m:\u001b[0m \u001b[1;34m\"Football\"\u001b[0m\u001b[1;33m,\u001b[0m \u001b[1;34m\"C\"\u001b[0m\u001b[1;33m:\u001b[0m \u001b[1;34m\"Hockey\"\u001b[0m\u001b[1;33m,\u001b[0m \u001b[1;34m\"D\"\u001b[0m\u001b[1;33m:\u001b[0m \u001b[1;34m\"Badminton\"\u001b[0m\u001b[1;33m}\u001b[0m\u001b[1;33m\u001b[0m\u001b[1;33m\u001b[0m\u001b[0m\n\u001b[1;32m----> 2\u001b[1;33m \u001b[0mprint\u001b[0m\u001b[1;33m(\u001b[0m\u001b[1;34m\"What about N?\"\u001b[0m\u001b[1;33m,\u001b[0m \u001b[0msports\u001b[0m\u001b[1;33m[\u001b[0m\u001b[1;34m\"N\"\u001b[0m\u001b[1;33m]\u001b[0m\u001b[1;33m)\u001b[0m\u001b[1;33m\u001b[0m\u001b[1;33m\u001b[0m\u001b[0m\n\u001b[0m",
      "\u001b[1;31mKeyError\u001b[0m: 'N'"
     ]
    }
   ],
   "source": [
    "sports = {\"A\": \"Cricket\", \"B\": \"Football\", \"C\": \"Hockey\", \"D\": \"Badminton\"}\n",
    "print(\"What about N?\", sports[\"N\"])"
   ]
  },
  {
   "cell_type": "code",
   "execution_count": 82,
   "id": "b5ccc622-114f-4aad-aae0-309b8ba3d829",
   "metadata": {},
   "outputs": [
    {
     "name": "stdout",
     "output_type": "stream",
     "text": [
      "What about N? None\n",
      "With a default value: asfasfasf\n"
     ]
    }
   ],
   "source": [
    "sports = {\"A\": \"Cricket\", \"B\": \"Football\", \"C\": \"Hockey\", \"D\": \"Badminton\"}\n",
    "print(\"What about N?\", sports.get(\"N\"))\n",
    "print(\"With a default value:\", sports.get(\"N\", \"asfasfasf\"))"
   ]
  },
  {
   "cell_type": "code",
   "execution_count": 83,
   "id": "3a5cba34-3bb3-483f-805d-53db35965623",
   "metadata": {},
   "outputs": [
    {
     "data": {
      "text/plain": [
       "False"
      ]
     },
     "execution_count": 83,
     "metadata": {},
     "output_type": "execute_result"
    }
   ],
   "source": [
    "sports = {\"A\": \"Cricket\", \"B\": \"Football\", \"C\": \"Hockey\", \"D\": \"Badminton\"}\n",
    "\"T\" in sports"
   ]
  },
  {
   "cell_type": "code",
   "execution_count": 84,
   "id": "74ded12e-7536-41ab-9b54-a2e08ae66fb7",
   "metadata": {},
   "outputs": [
    {
     "data": {
      "text/plain": [
       "True"
      ]
     },
     "execution_count": 84,
     "metadata": {},
     "output_type": "execute_result"
    }
   ],
   "source": [
    "sports = {\"A\": \"Cricket\", \"B\": \"Football\", \"C\": \"Hockey\", \"D\": \"Badminton\"}\n",
    "\"Y\" not in sports"
   ]
  },
  {
   "cell_type": "code",
   "execution_count": 85,
   "id": "f57330b9-b0ec-4d8f-bdb3-20cef75967c6",
   "metadata": {},
   "outputs": [
    {
     "name": "stdout",
     "output_type": "stream",
     "text": [
      "4\n"
     ]
    }
   ],
   "source": [
    "sports = {\"A\": \"Cricket\", \"B\": \"Football\", \"C\": \"Hockey\", \"D\": \"Badminton\"}\n",
    "print(len(sports))"
   ]
  },
  {
   "cell_type": "code",
   "execution_count": 86,
   "id": "2d334391-8418-42a4-b1af-160499e4246a",
   "metadata": {},
   "outputs": [
    {
     "name": "stdout",
     "output_type": "stream",
     "text": [
      "{'A': 'Cricket', 'B': 'Football', 'C': 'Hockey', 'D': 'Badminton', 'E': 'Kabaddi'}\n"
     ]
    }
   ],
   "source": [
    "sports = {\"A\": \"Cricket\", \"B\": \"Football\", \"C\": \"Hockey\", \"D\": \"Badminton\"}\n",
    "sports['E'] = 'Kabaddi'\n",
    "print(sports)"
   ]
  },
  {
   "cell_type": "code",
   "execution_count": 87,
   "id": "7e96b667-a08e-49ad-8391-0bffe587cdb4",
   "metadata": {},
   "outputs": [
    {
     "name": "stdout",
     "output_type": "stream",
     "text": [
      "{'A': 'Cricket', 'B': 'Football', 'C': 'Hockey', 'D': 'Badminton', 'E': 'Kabaddi', 'F': 'Volley Ball'}\n"
     ]
    }
   ],
   "source": [
    "sports = {\"A\": \"Cricket\", \"B\": \"Football\", \"C\": \"Hockey\", \"D\": \"Badminton\", \"E\": \"Kabaddi\"}\n",
    "sports['F'] = 'Volley Ball'\n",
    "print(sports)"
   ]
  },
  {
   "cell_type": "code",
   "execution_count": 88,
   "id": "0bb86718-d5da-4c4c-ade0-d250e3abe9a3",
   "metadata": {},
   "outputs": [
    {
     "name": "stdout",
     "output_type": "stream",
     "text": [
      "{'A': 'Cricket', 'B': 'Football', 'C': 'Hockey', 'D': 'Badminton', 'E': 'Kabaddi'}\n"
     ]
    }
   ],
   "source": [
    "sports = {\"A\": \"Cricket\", \"B\": \"Football\", \"C\": \"Hockey\", \"D\": \"Badminton\", \"E\": \"Kabaddi\", 'F': 'Volley Ball'}\n",
    "del sports['F']\n",
    "print(sports)"
   ]
  },
  {
   "cell_type": "code",
   "execution_count": 90,
   "id": "52ac486e-e67c-4f56-a860-eaa7bb5fc5ab",
   "metadata": {},
   "outputs": [
    {
     "ename": "TypeError",
     "evalue": "'range' object is not callable",
     "output_type": "error",
     "traceback": [
      "\u001b[1;31m---------------------------------------------------------------------------\u001b[0m",
      "\u001b[1;31mTypeError\u001b[0m                                 Traceback (most recent call last)",
      "\u001b[1;32m~\\AppData\\Local\\Temp/ipykernel_4724/1562450405.py\u001b[0m in \u001b[0;36m<module>\u001b[1;34m\u001b[0m\n\u001b[0;32m      1\u001b[0m \u001b[0msports\u001b[0m \u001b[1;33m=\u001b[0m \u001b[1;33m{\u001b[0m\u001b[1;34m\"A\"\u001b[0m\u001b[1;33m:\u001b[0m \u001b[1;34m\"Cricket\"\u001b[0m\u001b[1;33m,\u001b[0m \u001b[1;34m\"B\"\u001b[0m\u001b[1;33m:\u001b[0m \u001b[1;34m\"Football\"\u001b[0m\u001b[1;33m,\u001b[0m \u001b[1;34m\"C\"\u001b[0m\u001b[1;33m:\u001b[0m \u001b[1;34m\"Hockey\"\u001b[0m\u001b[1;33m,\u001b[0m \u001b[1;34m\"D\"\u001b[0m\u001b[1;33m:\u001b[0m \u001b[1;34m\"Badminton\"\u001b[0m\u001b[1;33m,\u001b[0m \u001b[1;34m\"E\"\u001b[0m\u001b[1;33m:\u001b[0m \u001b[1;34m\"Kabaddi\"\u001b[0m\u001b[1;33m}\u001b[0m\u001b[1;33m\u001b[0m\u001b[1;33m\u001b[0m\u001b[0m\n\u001b[1;32m----> 2\u001b[1;33m \u001b[0mprint\u001b[0m\u001b[1;33m(\u001b[0m\u001b[0mlist\u001b[0m\u001b[1;33m(\u001b[0m\u001b[0msports\u001b[0m\u001b[1;33m.\u001b[0m\u001b[0mkeys\u001b[0m\u001b[1;33m(\u001b[0m\u001b[1;33m)\u001b[0m\u001b[1;33m)\u001b[0m\u001b[1;33m)\u001b[0m\u001b[1;33m\u001b[0m\u001b[1;33m\u001b[0m\u001b[0m\n\u001b[0m",
      "\u001b[1;31mTypeError\u001b[0m: 'range' object is not callable"
     ]
    }
   ],
   "source": [
    "sports = {\"A\": \"Cricket\", \"B\": \"Football\", \"C\": \"Hockey\", \"D\": \"Badminton\", \"E\": \"Kabaddi\"}\n",
    "print(list(sports.keys()))"
   ]
  },
  {
   "cell_type": "code",
   "execution_count": 91,
   "id": "2ac8768c-554d-49c2-a6a9-34cab2acec2c",
   "metadata": {},
   "outputs": [
    {
     "ename": "TypeError",
     "evalue": "'range' object is not callable",
     "output_type": "error",
     "traceback": [
      "\u001b[1;31m---------------------------------------------------------------------------\u001b[0m",
      "\u001b[1;31mTypeError\u001b[0m                                 Traceback (most recent call last)",
      "\u001b[1;32m~\\AppData\\Local\\Temp/ipykernel_4724/2903656031.py\u001b[0m in \u001b[0;36m<module>\u001b[1;34m\u001b[0m\n\u001b[0;32m      1\u001b[0m \u001b[0msports\u001b[0m \u001b[1;33m=\u001b[0m \u001b[1;33m{\u001b[0m\u001b[1;34m\"A\"\u001b[0m\u001b[1;33m:\u001b[0m \u001b[1;34m\"Cricket\"\u001b[0m\u001b[1;33m,\u001b[0m \u001b[1;34m\"B\"\u001b[0m\u001b[1;33m:\u001b[0m \u001b[1;34m\"Football\"\u001b[0m\u001b[1;33m,\u001b[0m \u001b[1;34m\"C\"\u001b[0m\u001b[1;33m:\u001b[0m \u001b[1;34m\"Hockey\"\u001b[0m\u001b[1;33m,\u001b[0m \u001b[1;34m\"D\"\u001b[0m\u001b[1;33m:\u001b[0m \u001b[1;34m\"Badminton\"\u001b[0m\u001b[1;33m,\u001b[0m \u001b[1;34m\"E\"\u001b[0m\u001b[1;33m:\u001b[0m \u001b[1;34m\"Kabaddi\"\u001b[0m\u001b[1;33m}\u001b[0m\u001b[1;33m\u001b[0m\u001b[1;33m\u001b[0m\u001b[0m\n\u001b[1;32m----> 2\u001b[1;33m \u001b[0mprint\u001b[0m\u001b[1;33m(\u001b[0m\u001b[0mlist\u001b[0m\u001b[1;33m(\u001b[0m\u001b[0msports\u001b[0m\u001b[1;33m.\u001b[0m\u001b[0mvalues\u001b[0m\u001b[1;33m(\u001b[0m\u001b[1;33m)\u001b[0m\u001b[1;33m)\u001b[0m\u001b[1;33m)\u001b[0m\u001b[1;33m\u001b[0m\u001b[1;33m\u001b[0m\u001b[0m\n\u001b[0m",
      "\u001b[1;31mTypeError\u001b[0m: 'range' object is not callable"
     ]
    }
   ],
   "source": [
    "sports = {\"A\": \"Cricket\", \"B\": \"Football\", \"C\": \"Hockey\", \"D\": \"Badminton\", \"E\": \"Kabaddi\"}\n",
    "print(list(sports.values()))"
   ]
  },
  {
   "cell_type": "code",
   "execution_count": null,
   "id": "d35e588e-ebe0-48c1-8214-5e376ab5728e",
   "metadata": {},
   "outputs": [],
   "source": []
  }
 ],
 "metadata": {
  "kernelspec": {
   "display_name": "Python 3 (ipykernel)",
   "language": "python",
   "name": "python3"
  },
  "language_info": {
   "codemirror_mode": {
    "name": "ipython",
    "version": 3
   },
   "file_extension": ".py",
   "mimetype": "text/x-python",
   "name": "python",
   "nbconvert_exporter": "python",
   "pygments_lexer": "ipython3",
   "version": "3.8.12"
  }
 },
 "nbformat": 4,
 "nbformat_minor": 5
}
