{
 "cells": [
  {
   "cell_type": "code",
   "execution_count": 12,
   "id": "8552f81d-0fd4-40fc-8157-f06015b338d8",
   "metadata": {},
   "outputs": [],
   "source": [
    "a = 10"
   ]
  },
  {
   "cell_type": "code",
   "execution_count": 13,
   "id": "39fb24af-9fed-4177-b21e-4a3fa542f582",
   "metadata": {},
   "outputs": [
    {
     "data": {
      "text/plain": [
       "10"
      ]
     },
     "execution_count": 13,
     "metadata": {},
     "output_type": "execute_result"
    }
   ],
   "source": [
    "a"
   ]
  },
  {
   "cell_type": "code",
   "execution_count": 14,
   "id": "2b2aaaf4-95ea-46f6-a3f6-d624509d4f1d",
   "metadata": {},
   "outputs": [
    {
     "data": {
      "text/plain": [
       "int"
      ]
     },
     "execution_count": 14,
     "metadata": {},
     "output_type": "execute_result"
    }
   ],
   "source": [
    "type(a)"
   ]
  },
  {
   "cell_type": "code",
   "execution_count": 8,
   "id": "a3f86638-8cd4-4cb3-b6e3-2a6726bd5d7f",
   "metadata": {},
   "outputs": [],
   "source": [
    "items=(\"strawberry\",\"pomegranate\")"
   ]
  },
  {
   "cell_type": "code",
   "execution_count": 9,
   "id": "af2acbb0-2ae4-43d9-a5ec-ecb428217682",
   "metadata": {},
   "outputs": [
    {
     "data": {
      "text/plain": [
       "('strawberry', 'pomegranate')"
      ]
     },
     "execution_count": 9,
     "metadata": {},
     "output_type": "execute_result"
    }
   ],
   "source": [
    "items"
   ]
  },
  {
   "cell_type": "code",
   "execution_count": 10,
   "id": "ce325dfe-ecc8-420c-901c-25b3edc3666c",
   "metadata": {},
   "outputs": [
    {
     "data": {
      "text/plain": [
       "tuple"
      ]
     },
     "execution_count": 10,
     "metadata": {},
     "output_type": "execute_result"
    }
   ],
   "source": [
    "type(items)"
   ]
  },
  {
   "cell_type": "code",
   "execution_count": 20,
   "id": "c9ced7d4-1218-45bc-93b7-0896e21057cc",
   "metadata": {},
   "outputs": [],
   "source": [
    "a=10"
   ]
  },
  {
   "cell_type": "code",
   "execution_count": 21,
   "id": "c6f292d2-286e-49cc-bae4-a4fcf673b777",
   "metadata": {},
   "outputs": [
    {
     "data": {
      "text/plain": [
       "10"
      ]
     },
     "execution_count": 21,
     "metadata": {},
     "output_type": "execute_result"
    }
   ],
   "source": [
    "a"
   ]
  },
  {
   "cell_type": "code",
   "execution_count": 22,
   "id": "da6a538b-f64e-46b2-97fb-04b5b56daad0",
   "metadata": {},
   "outputs": [
    {
     "data": {
      "text/plain": [
       "20"
      ]
     },
     "execution_count": 22,
     "metadata": {},
     "output_type": "execute_result"
    }
   ],
   "source": [
    "a=a+10\n",
    "a"
   ]
  },
  {
   "cell_type": "code",
   "execution_count": 23,
   "id": "580d8813-d4f0-4e74-bebb-4877938a8925",
   "metadata": {},
   "outputs": [],
   "source": [
    "a+=10"
   ]
  },
  {
   "cell_type": "code",
   "execution_count": 24,
   "id": "3fb17b6b-7ace-4899-998d-c50e60a9584f",
   "metadata": {},
   "outputs": [
    {
     "data": {
      "text/plain": [
       "30"
      ]
     },
     "execution_count": 24,
     "metadata": {},
     "output_type": "execute_result"
    }
   ],
   "source": [
    "a"
   ]
  },
  {
   "cell_type": "code",
   "execution_count": null,
   "id": "b7379e57-97e0-4256-8991-b9a4415ebbbe",
   "metadata": {},
   "outputs": [],
   "source": []
  }
 ],
 "metadata": {
  "kernelspec": {
   "display_name": "Python 3 (ipykernel)",
   "language": "python",
   "name": "python3"
  },
  "language_info": {
   "codemirror_mode": {
    "name": "ipython",
    "version": 3
   },
   "file_extension": ".py",
   "mimetype": "text/x-python",
   "name": "python",
   "nbconvert_exporter": "python",
   "pygments_lexer": "ipython3",
   "version": "3.8.12"
  }
 },
 "nbformat": 4,
 "nbformat_minor": 5
}
